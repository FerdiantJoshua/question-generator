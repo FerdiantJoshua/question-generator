{
 "cells": [
  {
   "cell_type": "markdown",
   "metadata": {},
   "source": [
    "# Install FastText and Download Datasets"
   ]
  },
  {
   "cell_type": "code",
   "execution_count": null,
   "metadata": {},
   "outputs": [],
   "source": [
    "from gensim.models.fasttext import FastText\n",
    "\n",
    "model = FastText.load_fasttext_format('/models/word-embedding/cc.id.300.bin')\n",
    "\n",
    "EMBEDDING_SIZE = len(model.wv['a'])\n",
    "print(EMBEDDING_SIZE)\n",
    "print(len(model.wv.vocab))"
   ]
  },
  {
   "cell_type": "code",
   "execution_count": null,
   "metadata": {},
   "outputs": [],
   "source": [
    "import fasttext\n",
    "import fasttext.util\n",
    "\n",
    "NEW_DIMENSION = 100\n",
    "\n",
    "# Wiki and CommonCrawl\n",
    "print('Loading 300 dimension Indonesian FastText..')\n",
    "ft = fasttext.load_model('models/word-embedding/cc.id.300.bin')\n",
    "print(ft.get_dimension())\n",
    "print(f'Reducing dimension to {NEW_DIMENSION}..')\n",
    "fasttext.util.reduce_model(ft, NEW_DIMENSION)\n",
    "print(ft.get_dimension())\n",
    "ft.save_model(f'models/word-embedding/cc.id.{NEW_DIMENSION}.bin')"
   ]
  },
  {
   "cell_type": "code",
   "execution_count": null,
   "metadata": {},
   "outputs": [],
   "source": []
  }
 ],
 "metadata": {
  "kernelspec": {
   "display_name": "Python 3",
   "language": "python",
   "name": "python3"
  },
  "language_info": {
   "codemirror_mode": {
    "name": "ipython",
    "version": 3
   },
   "file_extension": ".py",
   "mimetype": "text/x-python",
   "name": "python",
   "nbconvert_exporter": "python",
   "pygments_lexer": "ipython3",
   "version": "3.7.1"
  }
 },
 "nbformat": 4,
 "nbformat_minor": 4
}
