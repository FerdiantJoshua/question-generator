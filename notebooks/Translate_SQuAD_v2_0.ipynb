{
 "cells": [
  {
   "cell_type": "markdown",
   "metadata": {
    "colab_type": "text",
    "id": "NwKycL0luGe8"
   },
   "source": [
    "# Import and environment preparation"
   ]
  },
  {
   "cell_type": "code",
   "execution_count": 4,
   "metadata": {
    "colab": {},
    "colab_type": "code",
    "id": "BXlejY5raGhm"
   },
   "outputs": [],
   "source": [
    "import pandas as pd\n",
    "import numpy as np\n",
    "import matplotlib.pyplot as plt\n",
    "import os\n",
    "\n",
    "import html\n",
    "from urllib.parse import unquote\n",
    "\n",
    "import time"
   ]
  },
  {
   "cell_type": "code",
   "execution_count": 17,
   "metadata": {
    "colab": {
     "base_uri": "https://localhost:8080/",
     "height": 269
    },
    "colab_type": "code",
    "id": "ERURrYuJNd6i",
    "outputId": "a599f76d-8966-4586-e7e2-67fa0d56a33f"
   },
   "outputs": [
    {
     "name": "stdout",
     "output_type": "stream",
     "text": [
      "./api_key/TA Question Generator-1c1bef1dd25f.json\n"
     ]
    }
   ],
   "source": [
    "os.environ['GOOGLE_APPLICATION_CREDENTIALS'] = '../api_key/TA Question Generator-1c1bef1dd25f.json'\n",
    "print(os.environ['GOOGLE_APPLICATION_CREDENTIALS'])"
   ]
  },
  {
   "cell_type": "markdown",
   "metadata": {
    "colab_type": "text",
    "id": "fifhejgYuMHj"
   },
   "source": [
    "# Data load and cleaning"
   ]
  },
  {
   "cell_type": "code",
   "execution_count": 140,
   "metadata": {
    "colab": {
     "base_uri": "https://localhost:8080/",
     "height": 224
    },
    "colab_type": "code",
    "id": "Ic6sT31Hatlv",
    "outputId": "eef6a6e5-015e-4957-b662-25c4a50bb761"
   },
   "outputs": [
    {
     "name": "stdout",
     "output_type": "stream",
     "text": [
      "(35, 1)\n"
     ]
    },
    {
     "data": {
      "text/html": [
       "<div>\n",
       "<style scoped>\n",
       "    .dataframe tbody tr th:only-of-type {\n",
       "        vertical-align: middle;\n",
       "    }\n",
       "\n",
       "    .dataframe tbody tr th {\n",
       "        vertical-align: top;\n",
       "    }\n",
       "\n",
       "    .dataframe thead th {\n",
       "        text-align: right;\n",
       "    }\n",
       "</style>\n",
       "<table border=\"1\" class=\"dataframe\">\n",
       "  <thead>\n",
       "    <tr style=\"text-align: right;\">\n",
       "      <th></th>\n",
       "      <th>data</th>\n",
       "    </tr>\n",
       "  </thead>\n",
       "  <tbody>\n",
       "    <tr>\n",
       "      <td>0</td>\n",
       "      <td>{'title': 'Normans', 'paragraphs': [{'qas': [{...</td>\n",
       "    </tr>\n",
       "    <tr>\n",
       "      <td>1</td>\n",
       "      <td>{'title': 'Computational_complexity_theory', '...</td>\n",
       "    </tr>\n",
       "    <tr>\n",
       "      <td>2</td>\n",
       "      <td>{'title': 'Southern_California', 'paragraphs':...</td>\n",
       "    </tr>\n",
       "    <tr>\n",
       "      <td>3</td>\n",
       "      <td>{'title': 'Sky_(United_Kingdom)', 'paragraphs'...</td>\n",
       "    </tr>\n",
       "    <tr>\n",
       "      <td>4</td>\n",
       "      <td>{'title': 'Victoria_(Australia)', 'paragraphs'...</td>\n",
       "    </tr>\n",
       "  </tbody>\n",
       "</table>\n",
       "</div>"
      ],
      "text/plain": [
       "                                                data\n",
       "0  {'title': 'Normans', 'paragraphs': [{'qas': [{...\n",
       "1  {'title': 'Computational_complexity_theory', '...\n",
       "2  {'title': 'Southern_California', 'paragraphs':...\n",
       "3  {'title': 'Sky_(United_Kingdom)', 'paragraphs'...\n",
       "4  {'title': 'Victoria_(Australia)', 'paragraphs'..."
      ]
     },
     "execution_count": 140,
     "metadata": {},
     "output_type": "execute_result"
    }
   ],
   "source": [
    "SQUAD_DATASET_PATH = '../data/raw/SQuAD/v2.0/train-v2.0.json'\n",
    "SQUAD_DEV_DATASET_PATH = '../data/raw/SQuAD/v2.0/dev-v2.0.json'\n",
    "\n",
    "# df_squad = pd.read_json(SQUAD_DATASET_PATH)\n",
    "# df_squad = df_squad.drop(columns=['version'])\n",
    "# print(df_squad.shape)\n",
    "# print(df_squad.head())\n",
    "\n",
    "df_squad_dev = pd.read_json(SQUAD_DEV_DATASET_PATH)\n",
    "df_squad_dev = df_squad_dev.drop(columns=['version'])\n",
    "print(df_squad_dev.shape)\n",
    "df_squad_dev.head()"
   ]
  },
  {
   "cell_type": "code",
   "execution_count": null,
   "metadata": {
    "colab": {
     "base_uri": "https://localhost:8080/",
     "height": 53
    },
    "colab_type": "code",
    "id": "olliM9UMa0m3",
    "outputId": "c7957b0e-8615-41a7-b24f-7bc122e11f2c"
   },
   "outputs": [
    {
     "name": "stdout",
     "output_type": "stream",
     "text": [
      "title\n",
      "paragraphs\n"
     ]
    }
   ],
   "source": [
    "for key in df_squad['data'][0].keys():\n",
    "    print(key)"
   ]
  },
  {
   "cell_type": "code",
   "execution_count": 141,
   "metadata": {
    "colab": {
     "base_uri": "https://localhost:8080/",
     "height": 206
    },
    "colab_type": "code",
    "id": "x5505bE7a04x",
    "outputId": "bd9fb90a-3769-4fcc-a86f-fb2f390b3a45"
   },
   "outputs": [
    {
     "data": {
      "text/html": [
       "<div>\n",
       "<style scoped>\n",
       "    .dataframe tbody tr th:only-of-type {\n",
       "        vertical-align: middle;\n",
       "    }\n",
       "\n",
       "    .dataframe tbody tr th {\n",
       "        vertical-align: top;\n",
       "    }\n",
       "\n",
       "    .dataframe thead th {\n",
       "        text-align: right;\n",
       "    }\n",
       "</style>\n",
       "<table border=\"1\" class=\"dataframe\">\n",
       "  <thead>\n",
       "    <tr style=\"text-align: right;\">\n",
       "      <th></th>\n",
       "      <th>title</th>\n",
       "      <th>paragraphs</th>\n",
       "    </tr>\n",
       "  </thead>\n",
       "  <tbody>\n",
       "    <tr>\n",
       "      <td>0</td>\n",
       "      <td>Normans</td>\n",
       "      <td>[{'qas': [{'question': 'In what country is Nor...</td>\n",
       "    </tr>\n",
       "    <tr>\n",
       "      <td>1</td>\n",
       "      <td>Computational_complexity_theory</td>\n",
       "      <td>[{'qas': [{'question': 'What branch of theoret...</td>\n",
       "    </tr>\n",
       "    <tr>\n",
       "      <td>2</td>\n",
       "      <td>Southern_California</td>\n",
       "      <td>[{'qas': [{'question': 'What is Southern Calif...</td>\n",
       "    </tr>\n",
       "    <tr>\n",
       "      <td>3</td>\n",
       "      <td>Sky_(United_Kingdom)</td>\n",
       "      <td>[{'qas': [{'question': 'What company was forme...</td>\n",
       "    </tr>\n",
       "    <tr>\n",
       "      <td>4</td>\n",
       "      <td>Victoria_(Australia)</td>\n",
       "      <td>[{'qas': [{'question': 'What kind of economy d...</td>\n",
       "    </tr>\n",
       "  </tbody>\n",
       "</table>\n",
       "</div>"
      ],
      "text/plain": [
       "                             title  \\\n",
       "0                          Normans   \n",
       "1  Computational_complexity_theory   \n",
       "2              Southern_California   \n",
       "3             Sky_(United_Kingdom)   \n",
       "4             Victoria_(Australia)   \n",
       "\n",
       "                                          paragraphs  \n",
       "0  [{'qas': [{'question': 'In what country is Nor...  \n",
       "1  [{'qas': [{'question': 'What branch of theoret...  \n",
       "2  [{'qas': [{'question': 'What is Southern Calif...  \n",
       "3  [{'qas': [{'question': 'What company was forme...  \n",
       "4  [{'qas': [{'question': 'What kind of economy d...  "
      ]
     },
     "execution_count": 141,
     "metadata": {},
     "output_type": "execute_result"
    }
   ],
   "source": [
    "# df_squad['title'] = df_squad['data'].apply(lambda x: x.get('title'))\n",
    "# df_squad['paragraphs'] = df_squad['data'].apply(lambda x: x.get('paragraphs'))\n",
    "# df_squad.drop(columns=['data'], inplace=True)\n",
    "# print(df_squad.head())\n",
    "\n",
    "df_squad_dev['title'] = df_squad_dev['data'].apply(lambda x: x.get('title'))\n",
    "df_squad_dev['paragraphs'] = df_squad_dev['data'].apply(lambda x: x.get('paragraphs'))\n",
    "df_squad_dev.drop(columns=['data'], inplace=True)\n",
    "df_squad_dev.head()"
   ]
  },
  {
   "cell_type": "code",
   "execution_count": null,
   "metadata": {
    "colab": {},
    "colab_type": "code",
    "id": "BMhE57BytUj5"
   },
   "outputs": [],
   "source": [
    "def replace_underscore_with_space(text):\n",
    "      return text.replace('_', ' ')\n",
    "\n",
    "df_squad['title'] = df_squad['title'].apply(unquote)\n",
    "df_squad['title'] = df_squad['title'].apply(replace_underscore_with_space)\n",
    "df_squad['paragraphs'] = df_squad['paragraphs'].apply(html.unescape)\n",
    "\n",
    "df_squad_dev['title'] = df_squad_dev['title'].apply(unquote)\n",
    "df_squad_dev['title'] = df_squad_dev['title'].apply(replace_underscore_with_space)\n",
    "df_squad_dev['paragraphs'] = df_squad_dev['paragraphs'].apply(html.unescape)"
   ]
  },
  {
   "cell_type": "code",
   "execution_count": null,
   "metadata": {
    "colab": {
     "base_uri": "https://localhost:8080/",
     "height": 484
    },
    "colab_type": "code",
    "id": "SBv33sZ3ebn_",
    "outputId": "b7d567ed-c990-4cd5-d87a-d510646ff218"
   },
   "outputs": [
    {
     "name": "stdout",
     "output_type": "stream",
     "text": [
      "Total paragraph of paragraphs[0]: 66\n",
      "\n",
      "Key(s) of paragraph:\n",
      "   qas\n",
      "   context\n",
      "\n",
      "Length of qas: 15. Element(s):\n",
      "   {'question': 'Kapan Beyonce mulai menjadi populer?', 'id': '56be85543aeaaa14008c9063', 'answers': [{'text': 'pada akhir 1990-an', 'answer_start': 269}], 'is_impossible': False}\n",
      "   {'question': 'Di area apa Beyonce berkompetisi ketika dia tumbuh dewasa?', 'id': '56be85543aeaaa14008c9065', 'answers': [{'text': 'bernyanyi dan menari', 'answer_start': 207}], 'is_impossible': False}\n",
      "   {'question': 'Kapan Beyonce meninggalkan Destiny&#39;s Child dan menjadi penyanyi solo?', 'id': '56be85543aeaaa14008c9066', 'answers': [{'text': '2003', 'answer_start': 526}], 'is_impossible': False}\n",
      "   {'question': 'Di kota dan negara bagian mana Beyonce tumbuh?', 'id': '56bf6b0f3aeaaa14008c9601', 'answers': [{'text': 'Houston, Texas', 'answer_start': 166}], 'is_impossible': False}\n",
      "   {'question': 'Di dekade mana Beyonce menjadi terkenal?', 'id': '56bf6b0f3aeaaa14008c9602', 'answers': [{'text': 'akhir 1990-an', 'answer_start': 276}], 'is_impossible': False}\n",
      "   {'question': 'Di grup R&amp;B apa dia menjadi penyanyi utama?', 'id': '56bf6b0f3aeaaa14008c9603', 'answers': [{'text': 'Destiny&#39;s Child', 'answer_start': 320}], 'is_impossible': False}\n",
      "   {'question': 'Album apa yang membuatnya menjadi artis terkenal di seluruh dunia?', 'id': '56bf6b0f3aeaaa14008c9604', 'answers': [{'text': 'Berbahaya dalam Cinta', 'answer_start': 505}], 'is_impossible': False}\n",
      "   {'question': 'Siapa yang mengelola grup Destiny&#39;s Child?', 'id': '56bf6b0f3aeaaa14008c9605', 'answers': [{'text': 'Mathew Knowles', 'answer_start': 360}], 'is_impossible': False}\n",
      "   {'question': 'Kapan Beyonce menjadi terkenal?', 'id': '56d43c5f2ccc5a1400d830a9', 'answers': [{'text': 'akhir 1990-an', 'answer_start': 276}], 'is_impossible': False}\n",
      "   {'question': 'Apa peran Beyoncé dalam Destiny&#39;s Child?', 'id': '56d43c5f2ccc5a1400d830aa', 'answers': [{'text': 'penyanyi utama', 'answer_start': 290}], 'is_impossible': False}\n",
      "   {'question': 'Apa album pertama yang dirilis Beyonce sebagai artis solo?', 'id': '56d43c5f2ccc5a1400d830ab', 'answers': [{'text': 'Berbahaya dalam Cinta', 'answer_start': 505}], 'is_impossible': False}\n",
      "   {'question': 'Kapan Beyonce merilis Dangerously in Love?', 'id': '56d43c5f2ccc5a1400d830ac', 'answers': [{'text': '2003', 'answer_start': 526}], 'is_impossible': False}\n",
      "   {'question': 'Berapa banyak penghargaan Grammy yang Beyonce menangkan untuk album solo pertamanya?', 'id': '56d43c5f2ccc5a1400d830ad', 'answers': [{'text': 'lima', 'answer_start': 590}], 'is_impossible': False}\n",
      "   {'question': 'Apa peran Beyonce dalam Destiny&#39;s Child?', 'id': '56d43ce42ccc5a1400d830b4', 'answers': [{'text': 'penyanyi utama', 'answer_start': 290}], 'is_impossible': False}\n",
      "   {'question': 'Apa nama album solo pertama Beyoncé?', 'id': '56d43ce42ccc5a1400d830b5', 'answers': [{'text': 'Berbahaya dalam Cinta', 'answer_start': 505}], 'is_impossible': False}\n",
      "\n",
      "Paragraph's context is:\n",
      "Beyoncé Giselle Knowles-Carter (/ biːˈjɒnseɪ / bee-YON-say) (lahir 4 September 1981) adalah penyanyi, penulis lagu, produser dan aktris rekaman Amerika. Dilahirkan dan dibesarkan di Houston, Texas, ia tampil di berbagai kompetisi menyanyi dan menari sebagai seorang anak, dan mulai terkenal pada akhir 1990-an sebagai penyanyi utama grup gadis R&amp;B Destiny&#39;s Child. Dikelola oleh ayahnya, Mathew Knowles, kelompok ini menjadi salah satu kelompok gadis terlaris di dunia sepanjang masa. Hiatus mereka melihat rilis album debut Beyoncé, Dangerously in Love (2003), yang menetapkan dia sebagai artis solo di seluruh dunia, memperoleh lima Grammy Awards dan menampilkan Billboard Hot 100 nomor satu single &quot;Crazy in Love&quot; dan &quot;Baby Boy&quot; .\n"
     ]
    }
   ],
   "source": [
    "chosen_idx = 0\n",
    "paragraphs = df_squad['paragraphs'][chosen_idx]\n",
    "print(f\"Total paragraph of paragraphs[{chosen_idx}]: {len(paragraphs)}\")\n",
    "\n",
    "chosen_paragraph_idx = 0\n",
    "paragraph = paragraphs[chosen_paragraph_idx]\n",
    "print()\n",
    "print('Key(s) of paragraph:')\n",
    "for key in paragraph:\n",
    "    print(f'   {key}')\n",
    "\n",
    "print()\n",
    "print(f\"Length of qas: {len(paragraph['qas'])}. Element(s):\")\n",
    "for key in paragraph['qas']:\n",
    "    print(f'   {key}')\n",
    "    \n",
    "print()\n",
    "print('Paragraph\\'s context is:')\n",
    "print(paragraph['context'])"
   ]
  },
  {
   "cell_type": "markdown",
   "metadata": {
    "colab_type": "text",
    "id": "i6QOnX3FuZcp"
   },
   "source": [
    "## Deep reading one of the data"
   ]
  },
  {
   "cell_type": "code",
   "execution_count": null,
   "metadata": {
    "colab": {
     "base_uri": "https://localhost:8080/",
     "height": 81
    },
    "colab_type": "code",
    "id": "jmYLla6DeduQ",
    "outputId": "1211ccf5-5244-4d71-ace3-755f308ebe16"
   },
   "outputs": [
    {
     "data": {
      "text/html": [
       "<div>\n",
       "<style scoped>\n",
       "    .dataframe tbody tr th:only-of-type {\n",
       "        vertical-align: middle;\n",
       "    }\n",
       "\n",
       "    .dataframe tbody tr th {\n",
       "        vertical-align: top;\n",
       "    }\n",
       "\n",
       "    .dataframe thead th {\n",
       "        text-align: right;\n",
       "    }\n",
       "</style>\n",
       "<table border=\"1\" class=\"dataframe\">\n",
       "  <thead>\n",
       "    <tr style=\"text-align: right;\">\n",
       "      <th></th>\n",
       "      <th>title</th>\n",
       "      <th>paragraphs</th>\n",
       "    </tr>\n",
       "  </thead>\n",
       "  <tbody>\n",
       "    <tr>\n",
       "      <th>1</th>\n",
       "      <td>Frédéric_Chopin</td>\n",
       "      <td>[{'qas': [{'question': \"What was Frédéric's na...</td>\n",
       "    </tr>\n",
       "  </tbody>\n",
       "</table>\n",
       "</div>"
      ],
      "text/plain": [
       "             title                                         paragraphs\n",
       "1  Frédéric_Chopin  [{'qas': [{'question': \"What was Frédéric's na..."
      ]
     },
     "execution_count": 7,
     "metadata": {
      "tags": []
     },
     "output_type": "execute_result"
    }
   ],
   "source": [
    "df_chopin = df_squad.loc[df_squad.title == 'Frédéric_Chopin']\n",
    "df_chopin"
   ]
  },
  {
   "cell_type": "code",
   "execution_count": null,
   "metadata": {
    "colab": {
     "base_uri": "https://localhost:8080/",
     "height": 683
    },
    "colab_type": "code",
    "id": "X8nQDc_IefLO",
    "outputId": "f3d9b3c6-6560-4163-bad5-33f0d74f4453"
   },
   "outputs": [
    {
     "name": "stdout",
     "output_type": "stream",
     "text": [
      "Frédéric François Chopin (/ˈʃoʊpæn/; French pronunciation: ​[fʁe.de.ʁik fʁɑ̃.swa ʃɔ.pɛ̃]; 22 February or 1 March 1810 – 17 October 1849), born Fryderyk Franciszek Chopin,[n 1] was a Polish and French (by citizenship and birth of father) composer and a virtuoso pianist of the Romantic era, who wrote primarily for the solo piano. He gained and has maintained renown worldwide as one of the leading musicians of his era, whose \"poetic genius was based on a professional technique that was without equal in his generation.\" Chopin was born in what was then the Duchy of Warsaw, and grew up in Warsaw, which after 1815 became part of Congress Poland. A child prodigy, he completed his musical education and composed his earlier works in Warsaw before leaving Poland at the age of 20, less than a month before the outbreak of the November 1830 Uprising.\n"
     ]
    },
    {
     "data": {
      "text/html": [
       "<div>\n",
       "<style scoped>\n",
       "    .dataframe tbody tr th:only-of-type {\n",
       "        vertical-align: middle;\n",
       "    }\n",
       "\n",
       "    .dataframe tbody tr th {\n",
       "        vertical-align: top;\n",
       "    }\n",
       "\n",
       "    .dataframe thead th {\n",
       "        text-align: right;\n",
       "    }\n",
       "</style>\n",
       "<table border=\"1\" class=\"dataframe\">\n",
       "  <thead>\n",
       "    <tr style=\"text-align: right;\">\n",
       "      <th></th>\n",
       "      <th>question</th>\n",
       "      <th>answers</th>\n",
       "    </tr>\n",
       "  </thead>\n",
       "  <tbody>\n",
       "    <tr>\n",
       "      <th>0</th>\n",
       "      <td>What was Frédéric's nationalities?</td>\n",
       "      <td>Polish and French</td>\n",
       "    </tr>\n",
       "    <tr>\n",
       "      <th>1</th>\n",
       "      <td>In what era was Frédéric active in?</td>\n",
       "      <td>Romantic era</td>\n",
       "    </tr>\n",
       "    <tr>\n",
       "      <th>2</th>\n",
       "      <td>For what instrument did Frédéric write primari...</td>\n",
       "      <td>solo piano</td>\n",
       "    </tr>\n",
       "    <tr>\n",
       "      <th>3</th>\n",
       "      <td>In what area was Frédéric born in?</td>\n",
       "      <td>Duchy of Warsaw</td>\n",
       "    </tr>\n",
       "    <tr>\n",
       "      <th>4</th>\n",
       "      <td>At what age did Frédéric depart from Poland?</td>\n",
       "      <td>20</td>\n",
       "    </tr>\n",
       "    <tr>\n",
       "      <th>5</th>\n",
       "      <td>What year was Chopin born?</td>\n",
       "      <td>1810</td>\n",
       "    </tr>\n",
       "    <tr>\n",
       "      <th>6</th>\n",
       "      <td>What era was Chopin active during?</td>\n",
       "      <td>Romantic era</td>\n",
       "    </tr>\n",
       "    <tr>\n",
       "      <th>7</th>\n",
       "      <td>Where did Chopin grow up?</td>\n",
       "      <td>Warsaw</td>\n",
       "    </tr>\n",
       "    <tr>\n",
       "      <th>8</th>\n",
       "      <td>What instrument did he mostly compose for?</td>\n",
       "      <td>solo piano</td>\n",
       "    </tr>\n",
       "    <tr>\n",
       "      <th>9</th>\n",
       "      <td>At what age did Chopin  leave Poland?</td>\n",
       "      <td>20</td>\n",
       "    </tr>\n",
       "    <tr>\n",
       "      <th>10</th>\n",
       "      <td>When did Chopin die?</td>\n",
       "      <td>17 October 1849</td>\n",
       "    </tr>\n",
       "    <tr>\n",
       "      <th>11</th>\n",
       "      <td>What was Chopin's full name?</td>\n",
       "      <td>Fryderyk Franciszek Chopin</td>\n",
       "    </tr>\n",
       "    <tr>\n",
       "      <th>12</th>\n",
       "      <td>The majority of Chopin's compositions were for...</td>\n",
       "      <td>solo piano</td>\n",
       "    </tr>\n",
       "    <tr>\n",
       "      <th>13</th>\n",
       "      <td>Chopin was active during what era?</td>\n",
       "      <td>Romantic era</td>\n",
       "    </tr>\n",
       "    <tr>\n",
       "      <th>14</th>\n",
       "      <td>In what year was Chopin born?</td>\n",
       "      <td>1810</td>\n",
       "    </tr>\n",
       "    <tr>\n",
       "      <th>15</th>\n",
       "      <td>In what city was Chopin born and raised?</td>\n",
       "      <td>Warsaw</td>\n",
       "    </tr>\n",
       "    <tr>\n",
       "      <th>16</th>\n",
       "      <td>How old was Chopin when he left Poland?</td>\n",
       "      <td>20</td>\n",
       "    </tr>\n",
       "    <tr>\n",
       "      <th>17</th>\n",
       "      <td>In what era of music did Chopin compose?</td>\n",
       "      <td>Romantic</td>\n",
       "    </tr>\n",
       "    <tr>\n",
       "      <th>18</th>\n",
       "      <td>What year did Chopin die?</td>\n",
       "      <td>1849</td>\n",
       "    </tr>\n",
       "  </tbody>\n",
       "</table>\n",
       "</div>"
      ],
      "text/plain": [
       "                                             question                     answers\n",
       "0                  What was Frédéric's nationalities?           Polish and French\n",
       "1                 In what era was Frédéric active in?                Romantic era\n",
       "2   For what instrument did Frédéric write primari...                  solo piano\n",
       "3                  In what area was Frédéric born in?             Duchy of Warsaw\n",
       "4        At what age did Frédéric depart from Poland?                          20\n",
       "5                          What year was Chopin born?                        1810\n",
       "6                  What era was Chopin active during?                Romantic era\n",
       "7                           Where did Chopin grow up?                      Warsaw\n",
       "8          What instrument did he mostly compose for?                  solo piano\n",
       "9               At what age did Chopin  leave Poland?                          20\n",
       "10                               When did Chopin die?             17 October 1849\n",
       "11                       What was Chopin's full name?  Fryderyk Franciszek Chopin\n",
       "12  The majority of Chopin's compositions were for...                  solo piano\n",
       "13                 Chopin was active during what era?                Romantic era\n",
       "14                      In what year was Chopin born?                        1810\n",
       "15           In what city was Chopin born and raised?                      Warsaw\n",
       "16            How old was Chopin when he left Poland?                          20\n",
       "17           In what era of music did Chopin compose?                    Romantic\n",
       "18                          What year did Chopin die?                        1849"
      ]
     },
     "execution_count": 8,
     "metadata": {
      "tags": []
     },
     "output_type": "execute_result"
    }
   ],
   "source": [
    "chopin_context_0 = df_chopin['paragraphs'].iloc[0][0]['context']\n",
    "df_chopin_context_0 = pd.DataFrame(df_chopin['paragraphs'].iloc[0][0]['qas'])\n",
    "df_chopin_context_0.drop(columns=['id', 'is_impossible'], inplace=True)\n",
    "df_chopin_context_0['answers'] = df_chopin_context_0['answers'].apply(lambda x: x[0]['text'])\n",
    "print(chopin_context_0)\n",
    "df_chopin_context_0"
   ]
  },
  {
   "cell_type": "markdown",
   "metadata": {},
   "source": [
    "# Load Translated"
   ]
  },
  {
   "cell_type": "code",
   "execution_count": 3,
   "metadata": {},
   "outputs": [
    {
     "data": {
      "text/html": [
       "<div>\n",
       "<style scoped>\n",
       "    .dataframe tbody tr th:only-of-type {\n",
       "        vertical-align: middle;\n",
       "    }\n",
       "\n",
       "    .dataframe tbody tr th {\n",
       "        vertical-align: top;\n",
       "    }\n",
       "\n",
       "    .dataframe thead th {\n",
       "        text-align: right;\n",
       "    }\n",
       "</style>\n",
       "<table border=\"1\" class=\"dataframe\">\n",
       "  <thead>\n",
       "    <tr style=\"text-align: right;\">\n",
       "      <th></th>\n",
       "      <th>title</th>\n",
       "      <th>paragraphs</th>\n",
       "    </tr>\n",
       "  </thead>\n",
       "  <tbody>\n",
       "    <tr>\n",
       "      <td>0</td>\n",
       "      <td>Beyonce</td>\n",
       "      <td>[{'qas': [{'question': 'Kapan Beyonce mulai me...</td>\n",
       "    </tr>\n",
       "    <tr>\n",
       "      <td>1</td>\n",
       "      <td>Frédéric Chopin</td>\n",
       "      <td>[{'qas': [{'question': 'Bagaimana kewarganegar...</td>\n",
       "    </tr>\n",
       "    <tr>\n",
       "      <td>2</td>\n",
       "      <td>Hubungan Tiongkok-Tibet selama dinasti Ming</td>\n",
       "      <td>[{'qas': [{'question': 'Siapakah Wang Jiawei d...</td>\n",
       "    </tr>\n",
       "    <tr>\n",
       "      <td>3</td>\n",
       "      <td>IPod</td>\n",
       "      <td>[{'qas': [{'question': 'Perusahaan mana yang m...</td>\n",
       "    </tr>\n",
       "    <tr>\n",
       "      <td>4</td>\n",
       "      <td>The Legend of Zelda: Twilight Princess</td>\n",
       "      <td>[{'qas': [{'question': 'Apa kategori game Lege...</td>\n",
       "    </tr>\n",
       "  </tbody>\n",
       "</table>\n",
       "</div>"
      ],
      "text/plain": [
       "                                         title  \\\n",
       "0                                      Beyonce   \n",
       "1                              Frédéric Chopin   \n",
       "2  Hubungan Tiongkok-Tibet selama dinasti Ming   \n",
       "3                                         IPod   \n",
       "4       The Legend of Zelda: Twilight Princess   \n",
       "\n",
       "                                          paragraphs  \n",
       "0  [{'qas': [{'question': 'Kapan Beyonce mulai me...  \n",
       "1  [{'qas': [{'question': 'Bagaimana kewarganegar...  \n",
       "2  [{'qas': [{'question': 'Siapakah Wang Jiawei d...  \n",
       "3  [{'qas': [{'question': 'Perusahaan mana yang m...  \n",
       "4  [{'qas': [{'question': 'Apa kategori game Lege...  "
      ]
     },
     "execution_count": 3,
     "metadata": {},
     "output_type": "execute_result"
    }
   ],
   "source": [
    "SQUAD_DATASET_PATH = '../data/interim/train-v2.0-translated.json'\n",
    "\n",
    "df_squad = pd.read_json(SQUAD_DATASET_PATH)\n",
    "df_squad.head()"
   ]
  },
  {
   "cell_type": "markdown",
   "metadata": {
    "colab_type": "text",
    "id": "Q4900FvQuEkR"
   },
   "source": [
    "# Translate"
   ]
  },
  {
   "cell_type": "code",
   "execution_count": 138,
   "metadata": {
    "colab": {},
    "colab_type": "code",
    "id": "4jsuTFgEelhq"
   },
   "outputs": [],
   "source": [
    "from google.cloud import translate_v2 as translate\n",
    "\n",
    "client = translate.Client()\n",
    "def translate_to_id(text):\n",
    "    return html.unescape(client.translate(text, target_language='id', source_language='en')['translatedText'])"
   ]
  },
  {
   "cell_type": "code",
   "execution_count": 143,
   "metadata": {
    "colab": {},
    "colab_type": "code",
    "id": "fC62WYHjTLjf"
   },
   "outputs": [],
   "source": [
    "df_squad_translated = df_squad.copy()\n",
    "df_squad_dev_translated = df_squad_dev.copy()"
   ]
  },
  {
   "cell_type": "code",
   "execution_count": null,
   "metadata": {
    "colab": {
     "base_uri": "https://localhost:8080/",
     "height": 424
    },
    "colab_type": "code",
    "id": "zTqjoCPjtBSN",
    "outputId": "b3837876-3d88-495b-db98-11737ef5e5e5"
   },
   "outputs": [
    {
     "data": {
      "text/html": [
       "<div>\n",
       "<style scoped>\n",
       "    .dataframe tbody tr th:only-of-type {\n",
       "        vertical-align: middle;\n",
       "    }\n",
       "\n",
       "    .dataframe tbody tr th {\n",
       "        vertical-align: top;\n",
       "    }\n",
       "\n",
       "    .dataframe thead th {\n",
       "        text-align: right;\n",
       "    }\n",
       "</style>\n",
       "<table border=\"1\" class=\"dataframe\">\n",
       "  <thead>\n",
       "    <tr style=\"text-align: right;\">\n",
       "      <th></th>\n",
       "      <th>title</th>\n",
       "      <th>paragraphs</th>\n",
       "    </tr>\n",
       "  </thead>\n",
       "  <tbody>\n",
       "    <tr>\n",
       "      <th>0</th>\n",
       "      <td>Beyonce</td>\n",
       "      <td>[{'qas': [{'question': 'When did Beyonce start...</td>\n",
       "    </tr>\n",
       "    <tr>\n",
       "      <th>1</th>\n",
       "      <td>Frédéric Chopin</td>\n",
       "      <td>[{'qas': [{'question': \"What was Frédéric's na...</td>\n",
       "    </tr>\n",
       "    <tr>\n",
       "      <th>2</th>\n",
       "      <td>Hubungan Tiongkok-Tibet selama dinasti Ming</td>\n",
       "      <td>[{'qas': [{'question': 'Who were Wang Jiawei a...</td>\n",
       "    </tr>\n",
       "    <tr>\n",
       "      <th>3</th>\n",
       "      <td>IPod</td>\n",
       "      <td>[{'qas': [{'question': 'Which company produces...</td>\n",
       "    </tr>\n",
       "    <tr>\n",
       "      <th>4</th>\n",
       "      <td>The Legend of Zelda: Twilight Princess</td>\n",
       "      <td>[{'qas': [{'question': 'What category of game ...</td>\n",
       "    </tr>\n",
       "    <tr>\n",
       "      <th>...</th>\n",
       "      <td>...</td>\n",
       "      <td>...</td>\n",
       "    </tr>\n",
       "    <tr>\n",
       "      <th>437</th>\n",
       "      <td>Infeksi</td>\n",
       "      <td>[{'qas': [{'question': 'Of the huge amount of ...</td>\n",
       "    </tr>\n",
       "    <tr>\n",
       "      <th>438</th>\n",
       "      <td>Berburu</td>\n",
       "      <td>[{'qas': [{'question': 'What is the practice o...</td>\n",
       "    </tr>\n",
       "    <tr>\n",
       "      <th>439</th>\n",
       "      <td>Kathmandu</td>\n",
       "      <td>[{'qas': [{'question': 'What country is Kathma...</td>\n",
       "    </tr>\n",
       "    <tr>\n",
       "      <th>440</th>\n",
       "      <td>Infark miokard</td>\n",
       "      <td>[{'qas': [{'plausible_answers': [{'text': 'Myo...</td>\n",
       "    </tr>\n",
       "    <tr>\n",
       "      <th>441</th>\n",
       "      <td>Masalah</td>\n",
       "      <td>[{'qas': [{'plausible_answers': [{'text': 'ord...</td>\n",
       "    </tr>\n",
       "  </tbody>\n",
       "</table>\n",
       "<p>442 rows × 2 columns</p>\n",
       "</div>"
      ],
      "text/plain": [
       "                                           title                                         paragraphs\n",
       "0                                        Beyonce  [{'qas': [{'question': 'When did Beyonce start...\n",
       "1                                Frédéric Chopin  [{'qas': [{'question': \"What was Frédéric's na...\n",
       "2    Hubungan Tiongkok-Tibet selama dinasti Ming  [{'qas': [{'question': 'Who were Wang Jiawei a...\n",
       "3                                           IPod  [{'qas': [{'question': 'Which company produces...\n",
       "4         The Legend of Zelda: Twilight Princess  [{'qas': [{'question': 'What category of game ...\n",
       "..                                           ...                                                ...\n",
       "437                                      Infeksi  [{'qas': [{'question': 'Of the huge amount of ...\n",
       "438                                      Berburu  [{'qas': [{'question': 'What is the practice o...\n",
       "439                                    Kathmandu  [{'qas': [{'question': 'What country is Kathma...\n",
       "440                               Infark miokard  [{'qas': [{'plausible_answers': [{'text': 'Myo...\n",
       "441                                      Masalah  [{'qas': [{'plausible_answers': [{'text': 'ord...\n",
       "\n",
       "[442 rows x 2 columns]"
      ]
     },
     "execution_count": 85,
     "metadata": {
      "tags": []
     },
     "output_type": "execute_result"
    }
   ],
   "source": [
    "df_squad_translated['title'] = df_squad_translated['title'].apply(translate_to_id)\n",
    "print(df_squad_translated.shape)\n",
    "df_squad_translated.head()"
   ]
  },
  {
   "cell_type": "code",
   "execution_count": 144,
   "metadata": {},
   "outputs": [
    {
     "data": {
      "text/html": [
       "<div>\n",
       "<style scoped>\n",
       "    .dataframe tbody tr th:only-of-type {\n",
       "        vertical-align: middle;\n",
       "    }\n",
       "\n",
       "    .dataframe tbody tr th {\n",
       "        vertical-align: top;\n",
       "    }\n",
       "\n",
       "    .dataframe thead th {\n",
       "        text-align: right;\n",
       "    }\n",
       "</style>\n",
       "<table border=\"1\" class=\"dataframe\">\n",
       "  <thead>\n",
       "    <tr style=\"text-align: right;\">\n",
       "      <th></th>\n",
       "      <th>title</th>\n",
       "      <th>paragraphs</th>\n",
       "    </tr>\n",
       "  </thead>\n",
       "  <tbody>\n",
       "    <tr>\n",
       "      <td>0</td>\n",
       "      <td>Normandia</td>\n",
       "      <td>[{'qas': [{'question': 'In what country is Nor...</td>\n",
       "    </tr>\n",
       "    <tr>\n",
       "      <td>1</td>\n",
       "      <td>Teori kompleksitas komputasi</td>\n",
       "      <td>[{'qas': [{'question': 'What branch of theoret...</td>\n",
       "    </tr>\n",
       "    <tr>\n",
       "      <td>2</td>\n",
       "      <td>California Selatan</td>\n",
       "      <td>[{'qas': [{'question': 'What is Southern Calif...</td>\n",
       "    </tr>\n",
       "    <tr>\n",
       "      <td>3</td>\n",
       "      <td>Sky (Kerajaan Inggris)</td>\n",
       "      <td>[{'qas': [{'question': 'What company was forme...</td>\n",
       "    </tr>\n",
       "    <tr>\n",
       "      <td>4</td>\n",
       "      <td>Victoria (Australia)</td>\n",
       "      <td>[{'qas': [{'question': 'What kind of economy d...</td>\n",
       "    </tr>\n",
       "    <tr>\n",
       "      <td>5</td>\n",
       "      <td>Huguenot</td>\n",
       "      <td>[{'qas': [{'question': \"Where was France's Hug...</td>\n",
       "    </tr>\n",
       "    <tr>\n",
       "      <td>6</td>\n",
       "      <td>Mesin uap</td>\n",
       "      <td>[{'qas': [{'question': 'Along with geothermal ...</td>\n",
       "    </tr>\n",
       "    <tr>\n",
       "      <td>7</td>\n",
       "      <td>Oksigen</td>\n",
       "      <td>[{'qas': [{'question': 'The atomic number of t...</td>\n",
       "    </tr>\n",
       "    <tr>\n",
       "      <td>8</td>\n",
       "      <td>Krisis minyak 1973</td>\n",
       "      <td>[{'qas': [{'question': 'When did the 1973 oil ...</td>\n",
       "    </tr>\n",
       "    <tr>\n",
       "      <td>9</td>\n",
       "      <td>Hukum Uni Eropa</td>\n",
       "      <td>[{'qas': [{'question': 'What is European Union...</td>\n",
       "    </tr>\n",
       "    <tr>\n",
       "      <td>10</td>\n",
       "      <td>hutan hujan Amazon</td>\n",
       "      <td>[{'qas': [{'question': 'Which name is also use...</td>\n",
       "    </tr>\n",
       "    <tr>\n",
       "      <td>11</td>\n",
       "      <td>Ctenophora</td>\n",
       "      <td>[{'qas': [{'question': 'What is a ctenophora?'...</td>\n",
       "    </tr>\n",
       "    <tr>\n",
       "      <td>12</td>\n",
       "      <td>Fresno, California</td>\n",
       "      <td>[{'qas': [{'question': 'Which city is the fift...</td>\n",
       "    </tr>\n",
       "    <tr>\n",
       "      <td>13</td>\n",
       "      <td>Pergantian paket</td>\n",
       "      <td>[{'qas': [{'question': 'What did Paul Baran de...</td>\n",
       "    </tr>\n",
       "    <tr>\n",
       "      <td>14</td>\n",
       "      <td>Kematian kelam</td>\n",
       "      <td>[{'qas': [{'question': 'Where did the black de...</td>\n",
       "    </tr>\n",
       "    <tr>\n",
       "      <td>15</td>\n",
       "      <td>Geologi</td>\n",
       "      <td>[{'qas': [{'question': 'An igneous rock is a r...</td>\n",
       "    </tr>\n",
       "    <tr>\n",
       "      <td>16</td>\n",
       "      <td>Farmasi</td>\n",
       "      <td>[{'qas': [{'question': 'What word is the word ...</td>\n",
       "    </tr>\n",
       "    <tr>\n",
       "      <td>17</td>\n",
       "      <td>Pembangkangan sipil</td>\n",
       "      <td>[{'qas': [{'question': 'What is it called when...</td>\n",
       "    </tr>\n",
       "    <tr>\n",
       "      <td>18</td>\n",
       "      <td>Konstruksi</td>\n",
       "      <td>[{'qas': [{'question': 'What is the process of...</td>\n",
       "    </tr>\n",
       "    <tr>\n",
       "      <td>19</td>\n",
       "      <td>Sekolah swasta</td>\n",
       "      <td>[{'qas': [{'question': 'Along with non-governm...</td>\n",
       "    </tr>\n",
       "    <tr>\n",
       "      <td>20</td>\n",
       "      <td>Universitas Harvard</td>\n",
       "      <td>[{'qas': [{'question': 'What individual is the...</td>\n",
       "    </tr>\n",
       "    <tr>\n",
       "      <td>21</td>\n",
       "      <td>Jacksonville, Florida</td>\n",
       "      <td>[{'qas': [{'question': 'Which Florida city has...</td>\n",
       "    </tr>\n",
       "    <tr>\n",
       "      <td>22</td>\n",
       "      <td>Ketimpangan ekonomi</td>\n",
       "      <td>[{'qas': [{'question': 'What percentage of glo...</td>\n",
       "    </tr>\n",
       "    <tr>\n",
       "      <td>23</td>\n",
       "      <td>Universitas Chicago</td>\n",
       "      <td>[{'qas': [{'question': 'What kind of universit...</td>\n",
       "    </tr>\n",
       "    <tr>\n",
       "      <td>24</td>\n",
       "      <td>Dinasti Yuan</td>\n",
       "      <td>[{'qas': [{'question': 'What is the Chinese na...</td>\n",
       "    </tr>\n",
       "    <tr>\n",
       "      <td>25</td>\n",
       "      <td>Sistem kekebalan</td>\n",
       "      <td>[{'qas': [{'question': 'The immune system prot...</td>\n",
       "    </tr>\n",
       "    <tr>\n",
       "      <td>26</td>\n",
       "      <td>Panel Antarpemerintah tentang Perubahan Iklim</td>\n",
       "      <td>[{'qas': [{'question': 'What organization is t...</td>\n",
       "    </tr>\n",
       "    <tr>\n",
       "      <td>27</td>\n",
       "      <td>bilangan prima</td>\n",
       "      <td>[{'qas': [{'question': 'What is the only divis...</td>\n",
       "    </tr>\n",
       "    <tr>\n",
       "      <td>28</td>\n",
       "      <td>Rhine</td>\n",
       "      <td>[{'qas': [{'question': 'Where does the Rhine e...</td>\n",
       "    </tr>\n",
       "    <tr>\n",
       "      <td>29</td>\n",
       "      <td>Parlemen Skotlandia</td>\n",
       "      <td>[{'qas': [{'question': 'When was the current p...</td>\n",
       "    </tr>\n",
       "    <tr>\n",
       "      <td>30</td>\n",
       "      <td>Islamisme</td>\n",
       "      <td>[{'qas': [{'question': 'What is an Islamic rev...</td>\n",
       "    </tr>\n",
       "    <tr>\n",
       "      <td>31</td>\n",
       "      <td>Imperialisme</td>\n",
       "      <td>[{'qas': [{'question': \"The word imperialism h...</td>\n",
       "    </tr>\n",
       "    <tr>\n",
       "      <td>32</td>\n",
       "      <td>Warsawa</td>\n",
       "      <td>[{'qas': [{'question': 'What is the largest ci...</td>\n",
       "    </tr>\n",
       "    <tr>\n",
       "      <td>33</td>\n",
       "      <td>Perang Perancis dan India</td>\n",
       "      <td>[{'qas': [{'question': 'When was the French an...</td>\n",
       "    </tr>\n",
       "    <tr>\n",
       "      <td>34</td>\n",
       "      <td>Memaksa</td>\n",
       "      <td>[{'qas': [{'question': 'What concept did philo...</td>\n",
       "    </tr>\n",
       "  </tbody>\n",
       "</table>\n",
       "</div>"
      ],
      "text/plain": [
       "                                            title  \\\n",
       "0                                       Normandia   \n",
       "1                    Teori kompleksitas komputasi   \n",
       "2                              California Selatan   \n",
       "3                          Sky (Kerajaan Inggris)   \n",
       "4                            Victoria (Australia)   \n",
       "5                                        Huguenot   \n",
       "6                                       Mesin uap   \n",
       "7                                         Oksigen   \n",
       "8                              Krisis minyak 1973   \n",
       "9                                 Hukum Uni Eropa   \n",
       "10                             hutan hujan Amazon   \n",
       "11                                     Ctenophora   \n",
       "12                             Fresno, California   \n",
       "13                               Pergantian paket   \n",
       "14                                 Kematian kelam   \n",
       "15                                        Geologi   \n",
       "16                                        Farmasi   \n",
       "17                            Pembangkangan sipil   \n",
       "18                                     Konstruksi   \n",
       "19                                 Sekolah swasta   \n",
       "20                            Universitas Harvard   \n",
       "21                          Jacksonville, Florida   \n",
       "22                            Ketimpangan ekonomi   \n",
       "23                            Universitas Chicago   \n",
       "24                                   Dinasti Yuan   \n",
       "25                               Sistem kekebalan   \n",
       "26  Panel Antarpemerintah tentang Perubahan Iklim   \n",
       "27                                 bilangan prima   \n",
       "28                                          Rhine   \n",
       "29                            Parlemen Skotlandia   \n",
       "30                                      Islamisme   \n",
       "31                                   Imperialisme   \n",
       "32                                        Warsawa   \n",
       "33                      Perang Perancis dan India   \n",
       "34                                        Memaksa   \n",
       "\n",
       "                                           paragraphs  \n",
       "0   [{'qas': [{'question': 'In what country is Nor...  \n",
       "1   [{'qas': [{'question': 'What branch of theoret...  \n",
       "2   [{'qas': [{'question': 'What is Southern Calif...  \n",
       "3   [{'qas': [{'question': 'What company was forme...  \n",
       "4   [{'qas': [{'question': 'What kind of economy d...  \n",
       "5   [{'qas': [{'question': \"Where was France's Hug...  \n",
       "6   [{'qas': [{'question': 'Along with geothermal ...  \n",
       "7   [{'qas': [{'question': 'The atomic number of t...  \n",
       "8   [{'qas': [{'question': 'When did the 1973 oil ...  \n",
       "9   [{'qas': [{'question': 'What is European Union...  \n",
       "10  [{'qas': [{'question': 'Which name is also use...  \n",
       "11  [{'qas': [{'question': 'What is a ctenophora?'...  \n",
       "12  [{'qas': [{'question': 'Which city is the fift...  \n",
       "13  [{'qas': [{'question': 'What did Paul Baran de...  \n",
       "14  [{'qas': [{'question': 'Where did the black de...  \n",
       "15  [{'qas': [{'question': 'An igneous rock is a r...  \n",
       "16  [{'qas': [{'question': 'What word is the word ...  \n",
       "17  [{'qas': [{'question': 'What is it called when...  \n",
       "18  [{'qas': [{'question': 'What is the process of...  \n",
       "19  [{'qas': [{'question': 'Along with non-governm...  \n",
       "20  [{'qas': [{'question': 'What individual is the...  \n",
       "21  [{'qas': [{'question': 'Which Florida city has...  \n",
       "22  [{'qas': [{'question': 'What percentage of glo...  \n",
       "23  [{'qas': [{'question': 'What kind of universit...  \n",
       "24  [{'qas': [{'question': 'What is the Chinese na...  \n",
       "25  [{'qas': [{'question': 'The immune system prot...  \n",
       "26  [{'qas': [{'question': 'What organization is t...  \n",
       "27  [{'qas': [{'question': 'What is the only divis...  \n",
       "28  [{'qas': [{'question': 'Where does the Rhine e...  \n",
       "29  [{'qas': [{'question': 'When was the current p...  \n",
       "30  [{'qas': [{'question': 'What is an Islamic rev...  \n",
       "31  [{'qas': [{'question': \"The word imperialism h...  \n",
       "32  [{'qas': [{'question': 'What is the largest ci...  \n",
       "33  [{'qas': [{'question': 'When was the French an...  \n",
       "34  [{'qas': [{'question': 'What concept did philo...  "
      ]
     },
     "execution_count": 144,
     "metadata": {},
     "output_type": "execute_result"
    }
   ],
   "source": [
    "df_squad_dev_translated['title'] = df_squad_dev_translated['title'].apply(translate_to_id)\n",
    "print(df_squad_dev_translated.shape)\n",
    "df_squad_dev_translated.head()"
   ]
  },
  {
   "cell_type": "code",
   "execution_count": 145,
   "metadata": {},
   "outputs": [],
   "source": [
    "SLEEP_TIME = 15\n",
    "\n",
    "TRANSLATED_TOPIC_IDX = -1\n",
    "TRANSLATED_CONTENT_IDX = -1\n",
    "TRANSLATED_QA_IDX = -1\n",
    "\n",
    "def save_wait_retranslate(target, translate_func, df, path):\n",
    "    print(f'Limit exceeded.. Saving, then sleeping for {SLEEP_TIME} seconds...')\n",
    "    df.to_json(path)\n",
    "    time.sleep(SLEEP_TIME)\n",
    "    target = translate_func(target)"
   ]
  },
  {
   "cell_type": "code",
   "execution_count": 151,
   "metadata": {
    "colab": {
     "base_uri": "https://localhost:8080/",
     "height": 1000
    },
    "colab_type": "code",
    "id": "AL2EKqlHvdCV",
    "outputId": "c89e3d72-e332-487b-8273-6907c5f8132d"
   },
   "outputs": [],
   "source": [
    "def translate_df_to_id(df_squad, path, translated_idx:tuple):\n",
    "    TRANSLATED_TOPIC_IDX = translated_idx[0]\n",
    "    TRANSLATED_CONTENT_IDX = translated_idx[1]\n",
    "    TRANSLATED_QA_IDX = translated_idx[2]\n",
    "    \n",
    "    i = 0\n",
    "    for topic in df_squad['paragraphs']:\n",
    "        print(f'Now translating {i}')\n",
    "        if i <= TRANSLATED_TOPIC_IDX:\n",
    "            print(f'Topic {i} translated. Skipping...')\n",
    "            i += 1\n",
    "            continue\n",
    "        j = 0\n",
    "        for paragraphs in topic:\n",
    "            if j <= TRANSLATED_CONTENT_IDX:\n",
    "                print(f'Paragraph {j} translated. Skipping...')\n",
    "                j += 1\n",
    "                continue\n",
    "            k = 0\n",
    "            for qas in paragraphs['qas']:\n",
    "                if k <= TRANSLATED_QA_IDX:\n",
    "                    print(f'Qa {k} translated. Skipping...')\n",
    "                    k += 1\n",
    "                    continue\n",
    "\n",
    "                try:\n",
    "                    qas['question'] = translate_to_id(qas['question'])\n",
    "                except:\n",
    "                    TRANSLATED_TOPIC_IDX = i-1\n",
    "                    TRANSLATED_CONTENT_IDX = j-1\n",
    "                    TRANSLATED_QA_IDX = k-1\n",
    "                    translated_idx = (TRANSLATED_TOPIC_IDX, TRANSLATED_CONTENT_IDX, TRANSLATED_QA_IDX)\n",
    "                    save_wait_retranslate(qas['question'], translate_to_id, df_squad, path)\n",
    "\n",
    "                plausible_answers = qas.get('plausible_answers')\n",
    "                if plausible_answers is None:\n",
    "                    for answer in qas['answers']:\n",
    "                        try:\n",
    "                            answer['text'] = translate_to_id(answer['text'])\n",
    "                        except:\n",
    "                            TRANSLATED_TOPIC_IDX = i-1\n",
    "                            TRANSLATED_CONTENT_IDX = j-1\n",
    "                            TRANSLATED_QA_IDX = k-1\n",
    "                            translated_idx = (TRANSLATED_TOPIC_IDX, TRANSLATED_CONTENT_IDX, TRANSLATED_QA_IDX)\n",
    "                            save_wait_retranslate(answer['text'], translate_to_id, df_squad, path)\n",
    "                else:\n",
    "                    for plausible_answer in qas['plausible_answers']:\n",
    "                        try:\n",
    "                            plausible_answer['text'] = translate_to_id(plausible_answer['text'])\n",
    "                        except:\n",
    "                            TRANSLATED_TOPIC_IDX = i-1\n",
    "                            TRANSLATED_CONTENT_IDX = j-1\n",
    "                            TRANSLATED_QA_IDX = k-1\n",
    "                            translated_idx = (TRANSLATED_TOPIC_IDX, TRANSLATED_CONTENT_IDX, TRANSLATED_QA_IDX)\n",
    "                            save_wait_retranslate(plausible_answer['text'], translate_to_id, df_squad, path)\n",
    "                k += 1\n",
    "            TRANSLATED_QA_IDX = -1\n",
    "            try:\n",
    "                paragraphs['context'] = translate_to_id(paragraphs['context'])\n",
    "            except:\n",
    "                TRANSLATED_TOPIC_IDX = i-1\n",
    "                TRANSLATED_CONTENT_IDX = j-1\n",
    "                TRANSLATED_QA_IDX = k-1\n",
    "                translated_idx = (TRANSLATED_TOPIC_IDX, TRANSLATED_CONTENT_IDX, TRANSLATED_QA_IDX)\n",
    "                save_wait_retranslate(paragraphs['context'], translate_to_id, df_squad, path)\n",
    "            j += 1\n",
    "        TRANSLATED_CONTENT_IDX = -1\n",
    "        i += 1"
   ]
  },
  {
   "cell_type": "code",
   "execution_count": 176,
   "metadata": {},
   "outputs": [
    {
     "name": "stdout",
     "output_type": "stream",
     "text": [
      "(23, -1, -1)\n",
      "Now translating 0\n",
      "Topic 0 translated. Skipping...\n",
      "Now translating 1\n",
      "Topic 1 translated. Skipping...\n",
      "Now translating 2\n",
      "Topic 2 translated. Skipping...\n",
      "Now translating 3\n",
      "Topic 3 translated. Skipping...\n",
      "Now translating 4\n",
      "Topic 4 translated. Skipping...\n",
      "Now translating 5\n",
      "Topic 5 translated. Skipping...\n",
      "Now translating 6\n",
      "Topic 6 translated. Skipping...\n",
      "Now translating 7\n",
      "Topic 7 translated. Skipping...\n",
      "Now translating 8\n",
      "Topic 8 translated. Skipping...\n",
      "Now translating 9\n",
      "Topic 9 translated. Skipping...\n",
      "Now translating 10\n",
      "Topic 10 translated. Skipping...\n",
      "Now translating 11\n",
      "Topic 11 translated. Skipping...\n",
      "Now translating 12\n",
      "Topic 12 translated. Skipping...\n",
      "Now translating 13\n",
      "Topic 13 translated. Skipping...\n",
      "Now translating 14\n",
      "Topic 14 translated. Skipping...\n",
      "Now translating 15\n",
      "Topic 15 translated. Skipping...\n",
      "Now translating 16\n",
      "Topic 16 translated. Skipping...\n",
      "Now translating 17\n",
      "Topic 17 translated. Skipping...\n",
      "Now translating 18\n",
      "Topic 18 translated. Skipping...\n",
      "Now translating 19\n",
      "Topic 19 translated. Skipping...\n",
      "Now translating 20\n",
      "Topic 20 translated. Skipping...\n",
      "Now translating 21\n",
      "Topic 21 translated. Skipping...\n",
      "Now translating 22\n",
      "Topic 22 translated. Skipping...\n",
      "Now translating 23\n",
      "Topic 23 translated. Skipping...\n",
      "Now translating 24\n",
      "Now translating 25\n",
      "Now translating 26\n",
      "Now translating 27\n",
      "Now translating 28\n",
      "Now translating 29\n",
      "Now translating 30\n",
      "Now translating 31\n",
      "Now translating 32\n",
      "Now translating 33\n",
      "Now translating 34\n"
     ]
    }
   ],
   "source": [
    "TRAIN_SAVE_PATH = '../data/interim/train-v2.0-translated.json'\n",
    "DEV_SAVE_PATH = '../data/interim/dev-v2.0-translated.json'\n",
    "\n",
    "translated_idx = (23, -1, -1)\n",
    "print(translated_idx)\n",
    "\n",
    "# try:\n",
    "#     translate_df_to_id(df_squad_translated, TRAIN_SAVE_PATH, translated_idx)\n",
    "# except Exception as e:\n",
    "#     print(e)\n",
    "# finally:\n",
    "#     df_squad_translated.to_json(TRAIN_SAVE_PATH)\n",
    "    \n",
    "try:\n",
    "    translate_df_to_id(df_squad_dev_translated, DEV_SAVE_PATH, translated_idx)\n",
    "except Exception as e:\n",
    "    print(e)\n",
    "finally:\n",
    "    df_squad_dev_translated.to_json(DEV_SAVE_PATH)\n",
    "    "
   ]
  },
  {
   "cell_type": "code",
   "execution_count": 171,
   "metadata": {},
   "outputs": [
    {
     "name": "stdout",
     "output_type": "stream",
     "text": [
      "1580139\n"
     ]
    }
   ],
   "source": [
    "total_length = 0\n",
    "\n",
    "i = 0\n",
    "for topic in df_squad_dev_translated['paragraphs']:\n",
    "    if i <= 9:\n",
    "        i += 1\n",
    "        continue\n",
    "    for paragraphs in topic:\n",
    "        for qas in paragraphs['qas']:\n",
    "            total_length += len(qas['question'])\n",
    "            plausible_answers = qas.get('plausible_answers')\n",
    "            if plausible_answers is None:\n",
    "                for answer in qas['answers']:\n",
    "                    total_length += len(answer['text'])\n",
    "            else:\n",
    "                for plausible_answer in qas['plausible_answers']:\n",
    "                    total_length += len(plausible_answer['text'])\n",
    "        total_length += len(paragraphs['context'])\n",
    "    i += 1\n",
    "\n",
    "print(total_length)"
   ]
  },
  {
   "cell_type": "code",
   "execution_count": 177,
   "metadata": {
    "colab": {},
    "colab_type": "code",
    "id": "xrO9yop6490D"
   },
   "outputs": [],
   "source": [
    "# df_squad_translated.to_json(TRAIN_SAVE_PATH)\n",
    "df_squad_dev_translated.to_json(DEV_SAVE_PATH)"
   ]
  },
  {
   "cell_type": "code",
   "execution_count": 181,
   "metadata": {},
   "outputs": [
    {
     "data": {
      "text/plain": [
       "{'qas': [{'plausible_answers': [{'text': 'masalah', 'answer_start': 485}],\n",
       "   'question': 'Fisika telah secara luas menyetujui definisi apa?',\n",
       "   'id': '5a7e070b70df9f001a875439',\n",
       "   'answers': [],\n",
       "   'is_impossible': True},\n",
       "  {'plausible_answers': [{'text': 'Alfv', 'answer_start': 327}],\n",
       "   'question': 'Siapa yang menciptakan istilah materi partonik?',\n",
       "   'id': '5a7e070b70df9f001a87543a',\n",
       "   'answers': [],\n",
       "   'is_impossible': True},\n",
       "  {'plausible_answers': [{'text': 'Gk. masalah umum', 'answer_start': 350}],\n",
       "   'question': 'Apa nama lain untuk anti-materi?',\n",
       "   'id': '5a7e070b70df9f001a87543b',\n",
       "   'answers': [],\n",
       "   'is_impossible': True},\n",
       "  {'plausible_answers': [{'text': 'pengubah yang menentukan',\n",
       "     'answer_start': 529}],\n",
       "   'question': 'Materi biasanya tidak perlu digunakan bersamaan dengan apa?',\n",
       "   'id': '5a7e070b70df9f001a87543c',\n",
       "   'answers': [],\n",
       "   'is_impossible': True},\n",
       "  {'plausible_answers': [{'text': 'fisika', 'answer_start': 37}],\n",
       "   'question': 'Bidang studi apa yang memiliki beragam konteks yang tidak biasa?',\n",
       "   'id': '5a7e070b70df9f001a87543d',\n",
       "   'answers': [],\n",
       "   'is_impossible': True}],\n",
       " 'context': 'Istilah \"materi\" digunakan di seluruh fisika dalam beragam konteks yang membingungkan: misalnya, seseorang merujuk pada \"fisika benda terkondensasi\", \"materi dasar\", \"materi partonik\", \"materi gelap\", \"anti\" -matter, \" \"materi\" dan \"nuklir\" yang aneh. Dalam diskusi tentang materi dan antimateri, materi normal telah disebut oleh Alfven sebagai koinomatter (Gk. Common matter). Adalah adil untuk mengatakan bahwa dalam fisika, tidak ada konsensus luas mengenai definisi umum materi, dan istilah \"materi\" biasanya digunakan bersama dengan pengubah yang menentukan.'}"
      ]
     },
     "execution_count": 181,
     "metadata": {},
     "output_type": "execute_result"
    }
   ],
   "source": [
    "# for i in range(len(df_squad_translated.iloc[379]['paragraphs'])):\n",
    "#     print(df_squad_translated.iloc[379]['paragraphs'][i]['context'])\n",
    "#     print()\n",
    "# df_squad_translated.iloc[-1]['paragraphs'][-1]\n",
    "\n",
    "df_squad_translated.iloc[-1]['paragraphs'][-1]"
   ]
  },
  {
   "cell_type": "code",
   "execution_count": 23,
   "metadata": {
    "colab": {
     "base_uri": "https://localhost:8080/",
     "height": 73
    },
    "colab_type": "code",
    "collapsed": true,
    "id": "_vf-607ZgTUP",
    "jupyter": {
     "outputs_hidden": true
    },
    "outputId": "06d207bc-47fb-44a1-8df3-8a840f6f3126"
   },
   "outputs": [
    {
     "name": "stdout",
     "output_type": "stream",
     "text": [
      "What was Beyoncé's role in Destiny's Child?\n",
      "Apa peran Beyonce dalam Destiny's Child?\n"
     ]
    }
   ],
   "source": [
    "df_squad_translated = pd.read_json('../data/interim/train-v2.0-translated.json')\n",
    "print(df_squad['paragraphs'][0][0]['qas'][-2]['question'])\n",
    "print(df_squad_translated['paragraphs'][0][0]['qas'][-2]['question'])"
   ]
  },
  {
   "cell_type": "code",
   "execution_count": 17,
   "metadata": {
    "collapsed": true,
    "jupyter": {
     "outputs_hidden": true
    }
   },
   "outputs": [
    {
     "data": {
      "text/plain": [
       "{'question': 'At what age did Frédéric move to Paris?',\n",
       " 'id': '56cbd2f96d243a140015ed70',\n",
       " 'answers': [{'text': '21', 'answer_start': 14}],\n",
       " 'is_impossible': False}"
      ]
     },
     "execution_count": 17,
     "metadata": {},
     "output_type": "execute_result"
    }
   ],
   "source": [
    "df_squad['paragraphs'][topic_idx][context_idx]['qas'][0]"
   ]
  }
 ],
 "metadata": {
  "colab": {
   "collapsed_sections": [],
   "name": "Translate SQuAD v2.0.ipynb",
   "provenance": [],
   "toc_visible": true
  },
  "kernelspec": {
   "display_name": "Python 3",
   "language": "python",
   "name": "python3"
  },
  "language_info": {
   "codemirror_mode": {
    "name": "ipython",
    "version": 3
   },
   "file_extension": ".py",
   "mimetype": "text/x-python",
   "name": "python",
   "nbconvert_exporter": "python",
   "pygments_lexer": "ipython3",
   "version": "3.7.1"
  }
 },
 "nbformat": 4,
 "nbformat_minor": 4
}
