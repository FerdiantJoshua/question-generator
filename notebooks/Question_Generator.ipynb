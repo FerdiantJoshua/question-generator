{
 "cells": [
  {
   "cell_type": "code",
   "execution_count": null,
   "metadata": {
    "colab": {},
    "colab_type": "code",
    "id": "1mzu1e3P0Dsr"
   },
   "outputs": [],
   "source": [
    "import sys\n",
    "\n",
    "import pandas as pd\n",
    "import numpy as np\n",
    "\n",
    "import matplotlib.pyplot as plt\n",
    "\n",
    "from gensim.models.fasttext import FastText\n",
    "\n",
    "import torch\n",
    "import torch.nn as nn\n",
    "from torch import optim\n",
    "import torch.nn.functional as F\n",
    "\n",
    "device = torch.device(\"cuda\" if torch.cuda.is_available() else \"cpu\")"
   ]
  },
  {
   "cell_type": "markdown",
   "metadata": {
    "colab_type": "text",
    "id": "zZPpjpFC9Aki"
   },
   "source": [
    "# Indonesian FastText Downloading and Loading"
   ]
  },
  {
   "cell_type": "markdown",
   "metadata": {
    "colab_type": "text",
    "id": "h8-kfZjEzXsc"
   },
   "source": [
    "## Loads FastText Model"
   ]
  },
  {
   "cell_type": "code",
   "execution_count": 6,
   "metadata": {
    "colab": {
     "base_uri": "https://localhost:8080/",
     "height": 35
    },
    "colab_type": "code",
    "id": "OBah9CbU_ozv",
    "outputId": "bc9b547d-d64d-4ac4-8c05-689429487d5c"
   },
   "outputs": [
    {
     "name": "stdout",
     "output_type": "stream",
     "text": [
      "300\n"
     ]
    }
   ],
   "source": [
    "model = FastText.load_fasttext_format('/content/drive/My Drive/TA/FastTextIndonesia/cc.id.300.bin')\n",
    "# model = FastText.load_fasttext_format('/content/drive/My Drive/TA/FastTextIndonesia/wiki.id.bin')\n",
    "# model = FastText.load_fasttext_format('/content/drive/My Drive/TA/FastTextIndonesia/cc.id.100.bin')\n",
    "# model = FastText.load_fasttext_format('/content/drive/My Drive/TA/FastTextIndonesia/wiki.id.100.bin')\n",
    "\n",
    "EMBEDDING_SIZE = len(model.wv['a'])\n",
    "print(EMBEDDING_SIZE)"
   ]
  },
  {
   "cell_type": "code",
   "execution_count": 7,
   "metadata": {
    "colab": {
     "base_uri": "https://localhost:8080/",
     "height": 35
    },
    "colab_type": "code",
    "id": "7DR2RfOP1sFO",
    "outputId": "995cd425-17fb-4ecc-e30d-a7613daef56a"
   },
   "outputs": [
    {
     "name": "stdout",
     "output_type": "stream",
     "text": [
      "False\n"
     ]
    }
   ],
   "source": [
    "print(\"algoritmatik\" in model.wv.vocab)\n",
    "# print(model.wv.most_similar(\"algoritmatik\"))"
   ]
  },
  {
   "cell_type": "markdown",
   "metadata": {
    "colab_type": "text",
    "id": "ZdY9T66-9IPh"
   },
   "source": [
    "# Loading Data"
   ]
  },
  {
   "cell_type": "code",
   "execution_count": 8,
   "metadata": {
    "colab": {
     "base_uri": "https://localhost:8080/",
     "height": 285
    },
    "colab_type": "code",
    "id": "vLvQ_f860DtM",
    "outputId": "f5798599-dda4-4a36-e974-5e19efa2cb3f"
   },
   "outputs": [
    {
     "name": "stdout",
     "output_type": "stream",
     "text": [
      "(442, 2)\n",
      "                                           title                                         paragraphs\n",
      "0                                        Beyonce  [{'qas': [{'question': 'Kapan Beyonce mulai me...\n",
      "1                                Frédéric Chopin  [{'qas': [{'question': 'Bagaimana kewarganegar...\n",
      "2    Hubungan Tiongkok-Tibet selama dinasti Ming  [{'qas': [{'question': 'Siapakah Wang Jiawei d...\n",
      "3                                           IPod  [{'qas': [{'question': 'Perusahaan mana yang m...\n",
      "4         The Legend of Zelda: Twilight Princess  [{'qas': [{'question': 'Apa kategori game Lege...\n",
      "..                                           ...                                                ...\n",
      "437                                      Infeksi  [{'qas': [{'question': 'Dari sejumlah besar mi...\n",
      "438                                      Berburu  [{'qas': [{'question': 'Apa praktik membunuh a...\n",
      "439                                    Kathmandu  [{'qas': [{'question': 'Negara mana Kathmandu ...\n",
      "440                               Infark miokard  [{'qas': [{'plausible_answers': [{'text': 'Inf...\n",
      "441                                      Masalah  [{'qas': [{'plausible_answers': [{'text': 'mat...\n",
      "\n",
      "[442 rows x 2 columns]\n"
     ]
    }
   ],
   "source": [
    "SQUAD_DATASET_PATH = '/content/drive/My Drive/TA/train-v2.0-translated_fixed.json'\n",
    "\n",
    "df_squad = pd.read_json(SQUAD_DATASET_PATH)\n",
    "# df_squad = df_squad.drop(columns=['failure_percentage', 'total_questions'])\n",
    "print(df_squad.shape)\n",
    "print(df_squad)"
   ]
  },
  {
   "cell_type": "markdown",
   "metadata": {
    "colab_type": "text",
    "id": "Twcph34a0DuB"
   },
   "source": [
    "# Delete Unfound Answers from Dataset"
   ]
  },
  {
   "cell_type": "code",
   "execution_count": 10,
   "metadata": {
    "colab": {
     "base_uri": "https://localhost:8080/",
     "height": 35
    },
    "colab_type": "code",
    "id": "aWtTvw6e0DuG",
    "outputId": "68456933-0852-4642-abb0-8b5b2b276d7e"
   },
   "outputs": [
    {
     "name": "stdout",
     "output_type": "stream",
     "text": [
      "120818\n"
     ]
    }
   ],
   "source": [
    "total_questions = 0\n",
    "for taken_topic_idx in range(df_squad.shape[0]):\n",
    "    for taken_context_idx in range(len(df_squad.iloc[taken_topic_idx]['paragraphs'])):\n",
    "        i = 0\n",
    "        qas = df_squad.iloc[taken_topic_idx]['paragraphs'][taken_context_idx]['qas']\n",
    "        while i < len(qas):\n",
    "            indonesian_answer = qas[i].get('indonesian_answers') or qas[i].get('indonesian_plausible_answers')\n",
    "            if indonesian_answer[0]['answer_start'] < 0:\n",
    "                qas.pop(i)\n",
    "            else:\n",
    "                i += 1\n",
    "                total_questions += 1\n",
    "print(total_questions)"
   ]
  },
  {
   "cell_type": "markdown",
   "metadata": {
    "colab_type": "text",
    "id": "ljZIws9ezzoy"
   },
   "source": [
    "# Prepare Tensors and Delete Unfound Answers Once Again"
   ]
  },
  {
   "cell_type": "code",
   "execution_count": null,
   "metadata": {
    "colab": {
     "base_uri": "https://localhost:8080/",
     "height": 162
    },
    "colab_type": "code",
    "id": "PIUrQXvp0Duc",
    "outputId": "9e8144ae-5cad-4ed7-fe92-04a964bbb8b3"
   },
   "outputs": [],
   "source": [
    "print(model.wv.most_similar('<unk'))\n",
    "print(model.wv.most_similar('<sos>'))\n",
    "print(model.wv.most_similar('<eos>'))\n",
    "print(model.wv.most_similar('</sos>'))\n",
    "print(model.wv.most_similar('</eos>'))"
   ]
  },
  {
   "cell_type": "code",
   "execution_count": null,
   "metadata": {
    "colab": {},
    "colab_type": "code",
    "id": "F-KYpYhUD9nV"
   },
   "outputs": [],
   "source": [
    "SOS_TOKEN = 0\n",
    "EOS_TOKEN = 1\n",
    "\n",
    "\n",
    "class TextDict:\n",
    "    def __init__(self, name):\n",
    "        self.name = name\n",
    "        self.word2index = {}\n",
    "        self.word2count = {}\n",
    "        self.index2word = {0: \"SOS\", 1: \"EOS\"}\n",
    "        self.n_words = 2  # Count SOS and EOS\n",
    "\n",
    "    def addWords(self, list_of_words):\n",
    "        for word in list_of_words:\n",
    "            self.addWord(word)\n",
    "\n",
    "    def addWord(self, word):\n",
    "        if word not in self.word2index:\n",
    "            self.word2index[word] = self.n_words\n",
    "            self.word2count[word] = 1\n",
    "            self.index2word[self.n_words] = word\n",
    "            self.n_words += 1\n",
    "        else:\n",
    "            self.word2count[word] += 1"
   ]
  },
  {
   "cell_type": "code",
   "execution_count": null,
   "metadata": {
    "colab": {
     "base_uri": "https://localhost:8080/",
     "height": 642
    },
    "colab_type": "code",
    "id": "CHH9Eyrn0U8M",
    "outputId": "84e37893-0f67-4b19-f953-e40737333618"
   },
   "outputs": [],
   "source": [
    "import re\n",
    "import unicodedata\n",
    "\n",
    "# Complete punctuation from string.punctiation: !\"#$%&'()*+,-./:;<=>?@[\\\\]^_`{|}~\n",
    "\n",
    "def unicodeToAscii(s):\n",
    "    return ''.join(\n",
    "        c for c in unicodedata.normalize('NFD', s)\n",
    "        if unicodedata.category(c) != 'Mn'\n",
    "    )\n",
    "\n",
    "get_non_ascii_regex = re.compile(r\"[^\\x00-\\x7F\\u2013]\")\n",
    "punctuations = '!\"#$%&\\()*+,./:;<=>?@[\\\\]^_`{|}~'\n",
    "''' tokenize(s)\n",
    "    1. Convert convertable non-ASCII unicode to ASCII,\n",
    "    2. Separate some punctuations (with some cases) with space,\n",
    "    3. Delete non-ASCII characters\n",
    "'''\n",
    "def tokenize(s):\n",
    "    s = unicodeToAscii(s)\n",
    "    s = re.sub(r\"([%s])\" % punctuations, r\" \\1 \", s)\n",
    "    s = re.sub(r\"([^a-zA-Z0-9]')\", r\" \\1 \", s)\n",
    "    s = re.sub(get_non_ascii_regex, r\"\", s)\n",
    "    s = s.split()\n",
    "    return s\n",
    "tokenize('\"Frédéric Chopin! adalah, (1907–1986) (1907-1986) anak-anak (children): gembala. Andi\\'s sheep is an \\'03 R&B player; 奉獻 km² Jīdū °5 вера ʰp\"')"
   ]
  },
  {
   "cell_type": "code",
   "execution_count": 14,
   "metadata": {
    "colab": {
     "base_uri": "https://localhost:8080/",
     "height": 410
    },
    "colab_type": "code",
    "id": "chesVMqz-gUT",
    "outputId": "162fb71c-d108-4008-94a5-080855912a64"
   },
   "outputs": [
    {
     "name": "stdout",
     "output_type": "stream",
     "text": [
      "                  0\n",
      "count  19035.000000\n",
      "mean     122.194799\n",
      "std       52.583681\n",
      "min       19.000000\n",
      "25%       90.000000\n",
      "50%      112.000000\n",
      "75%      147.000000\n",
      "max      743.000000\n",
      "\n",
      "743\n",
      "                   0\n",
      "count  120818.000000\n",
      "mean        9.813604\n",
      "std         3.261368\n",
      "min         1.000000\n",
      "25%         8.000000\n",
      "50%         9.000000\n",
      "75%        12.000000\n",
      "max        58.000000\n",
      "\n",
      "58\n"
     ]
    }
   ],
   "source": [
    "context_length = []\n",
    "for paragraph in df_squad['paragraphs']:\n",
    "    for qas in paragraph:\n",
    "        context_length.append(len(tokenize(qas['context'])))\n",
    "df_context_length = pd.DataFrame(context_length)\n",
    "context_length_desc = df_context_length.describe()\n",
    "print(context_length_desc, end='\\n\\n')\n",
    "\n",
    "CONTEXT_MAX_LENGTH = df_context_length.max()[0]\n",
    "print(CONTEXT_MAX_LENGTH)\n",
    "\n",
    "question_length = []\n",
    "for paragraph in df_squad['paragraphs']:\n",
    "    for qas in paragraph:\n",
    "        for qa in qas['qas']:\n",
    "            question_length.append(len(tokenize(qa['question'])))\n",
    "df_question_length = pd.DataFrame(question_length)\n",
    "question_length_desc = df_question_length.describe()\n",
    "print(question_length_desc, end='\\n\\n')\n",
    "\n",
    "QUESTION_MAX_LENGTH = df_question_length.max()[0]\n",
    "print(QUESTION_MAX_LENGTH)"
   ]
  },
  {
   "cell_type": "code",
   "execution_count": null,
   "metadata": {
    "colab": {},
    "colab_type": "code",
    "id": "n5qIe6WLXVAJ"
   },
   "outputs": [],
   "source": [
    "from fuzzywuzzy import fuzz\n",
    "\n",
    "WORD_SIMILARITY_THRESHOLD = 80\n",
    "\n",
    "def get_answer_index_from_context(tokenized_context, tokenized_answers, _position):\n",
    "    position = _position\n",
    "    i = 0\n",
    "    j = 0\n",
    "    while i < len(tokenized_context) and j < min(2, len(tokenized_answers)):\n",
    "        if position <= 5:\n",
    "            if tokenized_context[i].isnumeric():\n",
    "                similarity = fuzz.ratio(tokenized_context[i], tokenized_answers[j])\n",
    "            else:\n",
    "                similarity = fuzz.partial_ratio(tokenized_context[i], tokenized_answers[j])\n",
    "            # print(f'{tokenized_context[i]} vs {tokenized_answers[j]} = {similarity}')\n",
    "            if similarity >= WORD_SIMILARITY_THRESHOLD:\n",
    "                j += 1\n",
    "        position -= len(tokenized_context[i]) + 1\n",
    "        i += 1\n",
    "    if j >= min(2, len(tokenized_answers)):\n",
    "        return i-j\n",
    "    else:\n",
    "        return -1"
   ]
  },
  {
   "cell_type": "code",
   "execution_count": null,
   "metadata": {
    "colab": {},
    "colab_type": "code",
    "id": "diTLVWhZhI7G"
   },
   "outputs": [],
   "source": [
    "# for topic in df_squad.iloc[2]['paragraphs']:\n",
    "#     print(topic['context'])"
   ]
  },
  {
   "cell_type": "code",
   "execution_count": null,
   "metadata": {
    "colab": {
     "base_uri": "https://localhost:8080/",
     "height": 1000
    },
    "colab_type": "code",
    "id": "5u6ESB1j4U_W",
    "outputId": "09e1f222-e049-49a4-919f-67da1ac8fe92"
   },
   "outputs": [],
   "source": [
    "import string\n",
    "import time\n",
    "\n",
    "\n",
    "input_textdict = TextDict('context')\n",
    "output_textdict = TextDict('question')\n",
    "\n",
    "input_tensors = []\n",
    "answer_tensors = []\n",
    "target_tensors = []\n",
    "# case_tensors = []\n",
    "# is_number_tensors = []\n",
    "\n",
    "not_found = 0\n",
    "\n",
    "start_time = time.time()\n",
    "for taken_topic_idx in range(df_squad.shape[0]):\n",
    "    for taken_context_idx in range(len(df_squad.iloc[taken_topic_idx]['paragraphs'])):\n",
    "        context = df_squad.iloc[taken_topic_idx]['paragraphs'][taken_context_idx]['context']\n",
    "        tokenized_context = tokenize(context)\n",
    "        input_textdict.addWords(tokenized_context)\n",
    "        count_tobe_removed_chars = len(re.findall(get_non_ascii_regex, unicodeToAscii(context))) * 1.5  # With assumption every nonascii is followed by space\n",
    "        context_tensor = [input_textdict.word2index[word] for word in tokenized_context]\n",
    "        context_tensor.extend([0 for _ in range(CONTEXT_MAX_LENGTH - len(context_tensor))])\n",
    "        # context_tensor = convert_word_to_word_embedding(tokenized_context, model, context_tensor_target_shape, 'Context', taken_topic_idx, taken_context_idx)\n",
    "\n",
    "        qas = df_squad.iloc[taken_topic_idx]['paragraphs'][taken_context_idx]['qas']\n",
    "        i = 0\n",
    "        while i < len(qas):\n",
    "            qa = qas[i]\n",
    "\n",
    "            indonesian_question = qa['question']\n",
    "            tokenized_questions = tokenize(indonesian_question)\n",
    "            output_textdict.addWords(tokenized_questions)\n",
    "            question_tensor = [output_textdict.word2index[word] for word in tokenized_questions]\n",
    "            question_tensor.extend([0 for _ in range(QUESTION_MAX_LENGTH - len(question_tensor))])\n",
    "            # question_tensor = convert_word_to_word_embedding(tokenized_questions, model, question_tensor_target_shape, 'Question', taken_topic_idx, taken_context_idx, i)\n",
    "\n",
    "            indonesian_answer = qa.get('indonesian_answers') or qa.get('indonesian_plausible_answers')\n",
    "            tokenized_answers = tokenize(indonesian_answer[0]['text'])\n",
    "            answer_start = indonesian_answer[0]['answer_start'] - count_tobe_removed_chars\n",
    "            try:\n",
    "                word_idx = get_answer_index_from_context(tokenized_context, tokenized_answers, answer_start)\n",
    "            except IndexError as e:\n",
    "                word_idx = -1\n",
    "                not_found += 1\n",
    "                qas.pop(i)\n",
    "                print(f'Exception {e} at topic_idx={taken_topic_idx}, taken_context_idx={taken_context_idx}, qas_idx={i}')\n",
    "                # i += 1\n",
    "                continue\n",
    "            if word_idx == -1:\n",
    "                not_found += 1\n",
    "                qas.pop(i)\n",
    "                print(f'Not found at topic_idx={taken_topic_idx}, taken_context_idx={taken_context_idx}, qas_idx={i}')\n",
    "                # i += 1\n",
    "                continue\n",
    "            answer_tensor = [1 if i in range(word_idx, word_idx+len(tokenized_answers)) else 0 for i in range(CONTEXT_MAX_LENGTH)]\n",
    "\n",
    "            input_tensors.append(context_tensor)\n",
    "            answer_tensors.append(answer_tensor)\n",
    "            target_tensors.append(question_tensor)\n",
    "\n",
    "            i += 1\n",
    "end_time = time.time()\n",
    "\n",
    "total_questions = total_questions - not_found\n",
    "print(f'Not found answers: {not_found}. Questions left: {total_questions - not_found}')\n",
    "print(f'Execution time: {end_time-start_time}')"
   ]
  },
  {
   "cell_type": "code",
   "execution_count": 20,
   "metadata": {
    "colab": {
     "base_uri": "https://localhost:8080/",
     "height": 71
    },
    "colab_type": "code",
    "id": "ysR84RskT_oO",
    "outputId": "6f289cc5-fe38-4006-e37b-d3c5676215c1"
   },
   "outputs": [
    {
     "name": "stdout",
     "output_type": "stream",
     "text": [
      "torch.Size([120765, 743])\n",
      "torch.Size([120765, 743, 1])\n",
      "torch.Size([120765, 58])\n"
     ]
    }
   ],
   "source": [
    "feature_tensors = np.array(answer_tensors).reshape(len(answer_tensors), -1, 1)\n",
    "\n",
    "input_tensors = torch.from_numpy(np.array(input_tensors)).long().to(device)\n",
    "feature_tensors = torch.tensor(feature_tensors).float().to(device)\n",
    "target_tensors = torch.from_numpy(np.array(target_tensors)).long().to(device)\n",
    "print(input_tensors.size())\n",
    "print(feature_tensors.size())\n",
    "print(target_tensors.size())\n",
    "\n",
    "# input_tensors = np.array(input_tensors)\n",
    "# answer_tensors = np.array(answer_tensors)\n",
    "# target_tensors = np.array(target_tensors)\n",
    "# print(input_tensors.shape)\n",
    "# print(answer_tensors.shape)\n",
    "# print(target_tensors.shape)\n",
    "\n",
    "# print(len(input_tensors))\n",
    "# print(len(answer_tensors))\n",
    "# print(len(target_tensors))"
   ]
  },
  {
   "cell_type": "code",
   "execution_count": 21,
   "metadata": {
    "colab": {
     "base_uri": "https://localhost:8080/",
     "height": 35
    },
    "colab_type": "code",
    "id": "OiEmsztGDevT",
    "outputId": "807ed594-7a15-49d5-b173-83c57c3b5739"
   },
   "outputs": [
    {
     "data": {
      "text/plain": [
       "(120746,)"
      ]
     },
     "execution_count": 21,
     "metadata": {
      "tags": []
     },
     "output_type": "execute_result"
    }
   ],
   "source": [
    "# Count rows which contain non-zero element\n",
    "np.unique(np.array(answer_tensors).nonzero()[0]).shape"
   ]
  },
  {
   "cell_type": "markdown",
   "metadata": {
    "colab_type": "text",
    "id": "LNntpHNU8q7j"
   },
   "source": [
    "# Create Weights Matrix Embedding from FastText"
   ]
  },
  {
   "cell_type": "code",
   "execution_count": null,
   "metadata": {
    "colab": {
     "base_uri": "https://localhost:8080/",
     "height": 1000
    },
    "colab_type": "code",
    "id": "XIQEruPbX9Ng",
    "outputId": "201eb719-67a2-4414-a794-31b3b9eacd55"
   },
   "outputs": [],
   "source": [
    "OOV_REPLACEMENT = '<unk>'\n",
    "\n",
    "print(len(input_textdict.index2word))\n",
    "print(len(output_textdict.index2word))\n",
    "\n",
    "input_weights_matrix = np.zeros((len(input_textdict.index2word), EMBEDDING_SIZE))\n",
    "output_weights_matrix = np.zeros((len(output_textdict.index2word), EMBEDDING_SIZE))\n",
    "\n",
    "def convert_word_to_word_embedding(word, model):\n",
    "    try:\n",
    "        word_embedding = model.wv[word]\n",
    "    except KeyError as e:\n",
    "        print(f'{type(e).__name__} exception: {e}.')\n",
    "        word_embedding = model.wv[OOV_REPLACEMENT]\n",
    "    return word_embedding\n",
    "\n",
    "for i, word in input_textdict.index2word.items():\n",
    "    input_weights_matrix[i] = convert_word_to_word_embedding(word, model)\n",
    "for i, word in output_textdict.index2word.items():\n",
    "    output_weights_matrix[i] = convert_word_to_word_embedding(word, model)\n",
    "print(f'All unknown words will be replaced with {OOV_REPLACEMENT}')\n",
    "\n",
    "input_weights_matrix = torch.from_numpy(input_weights_matrix)\n",
    "output_weights_matrix = torch.from_numpy(output_weights_matrix)\n",
    "print(input_weights_matrix.size())\n",
    "print(output_weights_matrix.size())\n",
    "\n",
    "# print(input_weights_matrix.shape)\n",
    "# print(output_weights_matrix.shape)"
   ]
  },
  {
   "cell_type": "markdown",
   "metadata": {
    "colab_type": "text",
    "id": "WUkvKUdk0Duq"
   },
   "source": [
    "# Sequence to Sequence"
   ]
  },
  {
   "cell_type": "code",
   "execution_count": null,
   "metadata": {
    "colab": {},
    "colab_type": "code",
    "id": "YWRHrCwObezY"
   },
   "outputs": [],
   "source": [
    "def create_emb_layer(weights_matrix, non_trainable=False):\n",
    "    vocab_size, embedding_dim = weights_matrix.size()\n",
    "    emb_layer = nn.Embedding(vocab_size, embedding_dim)\n",
    "    emb_layer.load_state_dict({'weight': weights_matrix})\n",
    "    if non_trainable:\n",
    "        emb_layer.weight.requires_grad = False\n",
    "\n",
    "    return emb_layer, vocab_size, embedding_dim"
   ]
  },
  {
   "cell_type": "markdown",
   "metadata": {
    "colab_type": "text",
    "id": "TaTq4CeQ0Duw"
   },
   "source": [
    "## Encoder"
   ]
  },
  {
   "cell_type": "code",
   "execution_count": null,
   "metadata": {
    "colab": {},
    "colab_type": "code",
    "id": "WXjFNAog0Du0"
   },
   "outputs": [],
   "source": [
    "class EncoderRNN(nn.Module):\n",
    "    def __init__(self, weights_matrix, feature_tensors, hidden_size):\n",
    "        super(EncoderRNN, self).__init__()\n",
    "        self.hidden_size = hidden_size\n",
    "\n",
    "        self.embedding, _, embedding_dim = create_emb_layer(weights_matrix)\n",
    "        intermediate_dim = embedding_dim + feature_tensors.size(2)\n",
    "        self.lstm = nn.LSTM(intermediate_dim, hidden_size)\n",
    "\n",
    "    def forward(self, input, feature_tensor, hidden):\n",
    "        embedded = self.embedding(input).view(1, 1, -1)\n",
    "        output = torch.cat((embedded, feature_tensor.view(1, 1, -1)), 2)\n",
    "        print(output.size())\n",
    "        print(hidden.size())\n",
    "        output, hidden = self.lstm(output, hidden)\n",
    "        return output, hidden\n",
    "\n",
    "    def initHidden(self):\n",
    "        return torch.zeros(1, 1, self.hidden_size, device=device)"
   ]
  },
  {
   "cell_type": "markdown",
   "metadata": {
    "colab_type": "text",
    "id": "snoRlxoX0DvF"
   },
   "source": [
    "## Decoder"
   ]
  },
  {
   "cell_type": "code",
   "execution_count": null,
   "metadata": {
    "colab": {},
    "colab_type": "code",
    "id": "i0f1zWtq0DvK"
   },
   "outputs": [],
   "source": [
    "class DecoderRNN(nn.Module):\n",
    "    def __init__(self, weights_matrix, hidden_size, output_size):\n",
    "        super(DecoderRNN, self).__init__()\n",
    "        self.hidden_size = hidden_size\n",
    "\n",
    "        self.embedding, _, embedding_dim = create_emb_layer(weights_matrix)\n",
    "        self.lstm = nn.LSTM(embedding_dim, hidden_size)\n",
    "        self.out = nn.Linear(hidden_size, output_size)\n",
    "        self.softmax = nn.LogSoftmax(dim=1)\n",
    "\n",
    "    def forward(self, input, hidden):\n",
    "        output = self.embedding(input).view(1, 1, -1)\n",
    "        output = F.relu(output)\n",
    "        output, hidden = self.lstm(output, hidden)\n",
    "        output = self.softmax(self.out(output[0]))\n",
    "        return output, hidden\n",
    "\n",
    "    def initHidden(self):\n",
    "        return torch.zeros(1, 1, self.hidden_size, device=device)"
   ]
  },
  {
   "cell_type": "markdown",
   "metadata": {
    "colab_type": "text",
    "id": "Nh2c8kNx0DvY"
   },
   "source": [
    "## Attention"
   ]
  },
  {
   "cell_type": "code",
   "execution_count": null,
   "metadata": {
    "colab": {},
    "colab_type": "code",
    "id": "Fqfp8pSq0Dvb"
   },
   "outputs": [],
   "source": [
    "MAX_LENGTH = CONTEXT_MAX_LENGTH\n",
    "\n",
    "class AttnDecoderRNN(nn.Module):\n",
    "    def __init__(self, weights_matrix, hidden_size, output_size, dropout_p=0.1, max_length=MAX_LENGTH):\n",
    "        super(AttnDecoderRNN, self).__init__()\n",
    "        self.hidden_size = hidden_size\n",
    "        self.output_size = output_size\n",
    "        self.dropout_p = dropout_p\n",
    "        self.max_length = max_length\n",
    "\n",
    "        self.embedding, _, embedding_dim = create_emb_layer(weights_matrix)\n",
    "        self.attn = nn.Linear(embedding_dim + hidden_size, self.max_length)\n",
    "        self.attn_combine = nn.Linear(embedding_dim + hidden_size, self.hidden_size)\n",
    "        self.dropout = nn.Dropout(self.dropout_p)\n",
    "        self.lstm = nn.LSTM(self.hidden_size, self.hidden_size)\n",
    "        self.out = nn.Linear(self.hidden_size, self.output_size)\n",
    "\n",
    "    def forward(self, input, hidden, encoder_outputs):\n",
    "        embedded = self.embedding(input).view(1, 1, -1)\n",
    "        # embedded = self.dropout(embedded)\n",
    "\n",
    "        attn_weights = F.softmax(\n",
    "            self.attn(torch.cat((embedded[0], hidden[0]), 1)), dim=1)\n",
    "        attn_applied = torch.bmm(attn_weights.unsqueeze(0),\n",
    "                                 encoder_outputs.unsqueeze(0))\n",
    "\n",
    "        output = torch.cat((inputs[0], attn_applied[0]), 1)\n",
    "        output = self.attn_combine(output).unsqueeze(0)\n",
    "\n",
    "        output = F.relu(output)\n",
    "        output, hidden = self.lstm(output, hidden)\n",
    "\n",
    "        output = F.log_softmax(self.out(output[0]), dim=1)\n",
    "        return output, hidden, attn_weights\n",
    "\n",
    "    def initHidden(self):\n",
    "        return torch.zeros(1, 1, self.hidden_size, device=device)"
   ]
  },
  {
   "cell_type": "markdown",
   "metadata": {
    "colab_type": "text",
    "id": "FO9m7fcD0Dvs"
   },
   "source": [
    "# Training"
   ]
  },
  {
   "cell_type": "markdown",
   "metadata": {
    "colab_type": "text",
    "id": "LtEeSN4E-50n"
   },
   "source": [
    "## Helper Function"
   ]
  },
  {
   "cell_type": "code",
   "execution_count": null,
   "metadata": {
    "colab": {},
    "colab_type": "code",
    "id": "cb18eyKU0Dtw"
   },
   "outputs": [],
   "source": [
    "import time\n",
    "import math\n",
    "\n",
    "\n",
    "def asMinutes(s):\n",
    "    m = math.floor(s / 60)\n",
    "    s -= m * 60\n",
    "    return f'{m}m {s}s'\n",
    "\n",
    "\n",
    "def timeSince(since, percent):\n",
    "    now = time.time()\n",
    "    s = now - since\n",
    "    es = s / (percent)\n",
    "    rs = es - s\n",
    "    return f'{asMinutes(s)} (- {asMinutes(rs)})'"
   ]
  },
  {
   "cell_type": "markdown",
   "metadata": {
    "colab_type": "text",
    "id": "XFkNqqJw_A0K"
   },
   "source": [
    "## Train"
   ]
  },
  {
   "cell_type": "code",
   "execution_count": null,
   "metadata": {
    "colab": {},
    "colab_type": "code",
    "id": "WoOyYUpD-tAu"
   },
   "outputs": [],
   "source": [
    "teacher_forcing_ratio = 0.5\n",
    "\n",
    "\n",
    "def train(input_tensor, feature_tensor, target_tensor, encoder, decoder, encoder_optimizer, decoder_optimizer, criterion, max_length=MAX_LENGTH):\n",
    "    encoder_hidden = encoder.initHidden()\n",
    "\n",
    "    encoder_optimizer.zero_grad()\n",
    "    decoder_optimizer.zero_grad()\n",
    "\n",
    "    input_length = input_tensor.size(0)\n",
    "    target_length = target_tensor.size(0)\n",
    "\n",
    "    encoder_outputs = torch.zeros(max_length, encoder.hidden_size, device=device)\n",
    "\n",
    "    loss = 0\n",
    "\n",
    "    for ei in range(input_length):\n",
    "        encoder_output, encoder_hidden = encoder(\n",
    "            input_tensor[ei], feature_tensor[ei], encoder_hidden)\n",
    "        encoder_outputs[ei] = encoder_output[0, 0]\n",
    "\n",
    "    decoder_input = torch.tensor([[SOS_TOKEN]], device=device)\n",
    "\n",
    "    decoder_hidden = encoder_hidden\n",
    "\n",
    "    use_teacher_forcing = True if random.random() < teacher_forcing_ratio else False\n",
    "\n",
    "    if use_teacher_forcing:\n",
    "        # Teacher forcing: Feed the target as the next input\n",
    "        for di in range(target_length):\n",
    "            decoder_output, decoder_hidden, decoder_attention = decoder(\n",
    "                decoder_input, decoder_hidden, encoder_outputs)\n",
    "            loss += criterion(decoder_output, target_tensor[di])\n",
    "            decoder_input = target_tensor[di]  # Teacher forcing\n",
    "\n",
    "    else:\n",
    "        # Without teacher forcing: use its own predictions as the next input\n",
    "        for di in range(target_length):\n",
    "            decoder_output, decoder_hidden, decoder_attention = decoder(\n",
    "                decoder_input, decoder_hidden, encoder_outputs)\n",
    "            topv, topi = decoder_output.topk(1)\n",
    "            decoder_input = topi.squeeze().detach()  # detach from history as input\n",
    "\n",
    "            loss += criterion(decoder_output, target_tensor[di])\n",
    "            if decoder_input.item() == EOS_TOKEN:\n",
    "                break\n",
    "\n",
    "    loss.backward()\n",
    "\n",
    "    encoder_optimizer.step()\n",
    "    decoder_optimizer.step()\n",
    "\n",
    "    return loss.item() / target_length"
   ]
  },
  {
   "cell_type": "code",
   "execution_count": null,
   "metadata": {
    "colab": {},
    "colab_type": "code",
    "id": "dXTXXDjQ0Dv1"
   },
   "outputs": [],
   "source": [
    "def trainIters(encoder, decoder, n_iters, print_every=1000, plot_every=100, learning_rate=0.01):\n",
    "    start = time.time()\n",
    "    plot_losses = []\n",
    "    print_loss_total = 0  # Reset every print_every\n",
    "    plot_loss_total = 0  # Reset every plot_every\n",
    "\n",
    "    encoder_optimizer = optim.SGD(encoder.parameters(), lr=learning_rate)\n",
    "    decoder_optimizer = optim.SGD(decoder.parameters(), lr=learning_rate)\n",
    "    criterion = nn.NLLLoss()\n",
    "\n",
    "    input_batch = input_tensors.size(0)\n",
    "\n",
    "    for iter in range(1, n_iters + 1):\n",
    "        input_tensor = input_tensors[iter % input_batch]\n",
    "        feature_tensor = feature_tensors[iter % input_batch]\n",
    "        target_tensor = target_tensors[iter % input_batch]\n",
    "\n",
    "        loss = train(input_tensor, feature_tensor, target_tensor, encoder,\n",
    "                     decoder, encoder_optimizer, decoder_optimizer, criterion)\n",
    "        print_loss_total += loss\n",
    "        plot_loss_total += loss\n",
    "\n",
    "        if iter % print_every == 0:\n",
    "            print_loss_avg = print_loss_total / print_every\n",
    "            print_loss_total = 0\n",
    "            print('%s (%d %d%%) %.4f' % (timeSince(start, iter / n_iters),\n",
    "                                         iter, iter / n_iters * 100, print_loss_avg))\n",
    "\n",
    "        if iter % plot_every == 0:\n",
    "            plot_loss_avg = plot_loss_total / plot_every\n",
    "            plot_losses.append(plot_loss_avg)\n",
    "            plot_loss_total = 0\n",
    "\n",
    "    showPlot(plot_losses)"
   ]
  },
  {
   "cell_type": "markdown",
   "metadata": {
    "colab_type": "text",
    "id": "37No5Sv00DwV"
   },
   "source": [
    "# Plotting Results"
   ]
  },
  {
   "cell_type": "code",
   "execution_count": null,
   "metadata": {
    "colab": {},
    "colab_type": "code",
    "id": "p3IgemWX0Dwc"
   },
   "outputs": [],
   "source": [
    "plt.switch_backend('agg')\n",
    "import numpy as np\n",
    "\n",
    "\n",
    "def showPlot(points):\n",
    "    plt.figure()\n",
    "    fig, ax = plt.subplots()\n",
    "    # this locator puts ticks at regular intervals\n",
    "    loc = ticker.MultipleLocator(base=0.2)\n",
    "    ax.yaxis.set_major_locator(loc)\n",
    "    plt.plot(points)"
   ]
  },
  {
   "cell_type": "markdown",
   "metadata": {
    "colab_type": "text",
    "id": "ZjwHMNf30DxL"
   },
   "source": [
    "# Evaluation"
   ]
  },
  {
   "cell_type": "code",
   "execution_count": null,
   "metadata": {
    "colab": {},
    "colab_type": "code",
    "id": "NZPqFXWU0DxN"
   },
   "outputs": [],
   "source": [
    "def evaluate(encoder, decoder, sentence, max_length=MAX_LENGTH):\n",
    "    with torch.no_grad():\n",
    "        # input_tensor = tensorFromSentence(input_lang, sentence)\n",
    "        input_length = input_tensor.size()[0]\n",
    "        encoder_hidden = encoder.initHidden()\n",
    "\n",
    "        encoder_outputs = torch.zeros(max_length, encoder.hidden_size, device=device)\n",
    "\n",
    "        for ei in range(input_length):\n",
    "            encoder_output, encoder_hidden = encoder(input_tensor[ei],\n",
    "                                                     feature_tensor[ei],\n",
    "                                                     encoder_hidden)\n",
    "            encoder_outputs[ei] += encoder_output[0, 0]\n",
    "\n",
    "        decoder_input = torch.tensor([[SOS_TOKEN]], device=device)  # SOS\n",
    "\n",
    "        decoder_hidden = encoder_hidden\n",
    "\n",
    "        decoded_words = []\n",
    "        decoder_attentions = torch.zeros(max_length, max_length)\n",
    "\n",
    "        for di in range(max_length):\n",
    "            decoder_output, decoder_hidden, decoder_attention = decoder(\n",
    "                decoder_input, decoder_hidden, encoder_outputs)\n",
    "            decoder_attentions[di] = decoder_attention.data\n",
    "            topv, topi = decoder_output.data.topk(1)\n",
    "            if topi.item() == EOS_TOKEN:\n",
    "                decoded_words.append('<eos>')\n",
    "                break\n",
    "            else:\n",
    "                decoded_words.append(output_lang.index2word[topi.item()])\n",
    "\n",
    "            decoder_input = topi.squeeze().detach()\n",
    "\n",
    "        return decoded_words, decoder_attentions[:di + 1]"
   ]
  },
  {
   "cell_type": "code",
   "execution_count": null,
   "metadata": {
    "colab": {},
    "colab_type": "code",
    "id": "pa91s9CtBAIQ"
   },
   "outputs": [],
   "source": [
    "def evaluateRandomly(encoder, decoder, n=10):\n",
    "    for i in range(n):\n",
    "        pair = random.choice(pairs)\n",
    "        print('>', pair[0])\n",
    "        print('=', pair[1])\n",
    "        output_words, attentions = evaluate(encoder, decoder, pair[0])\n",
    "        output_sentence = ' '.join(output_words)\n",
    "        print('<', output_sentence)\n",
    "        print('')"
   ]
  },
  {
   "cell_type": "markdown",
   "metadata": {
    "colab_type": "text",
    "id": "U1lUTLbB0Dxb"
   },
   "source": [
    "# Train & Evaluate"
   ]
  },
  {
   "cell_type": "code",
   "execution_count": 34,
   "metadata": {
    "colab": {
     "base_uri": "https://localhost:8080/",
     "height": 410
    },
    "colab_type": "code",
    "id": "jNpOHEQm0Dxf",
    "outputId": "9f60b643-3647-4426-b9b5-40e3d1a7a4d6"
   },
   "outputs": [
    {
     "name": "stdout",
     "output_type": "stream",
     "text": [
      "torch.Size([1, 1, 301])\n",
      "torch.Size([1, 1, 256])\n"
     ]
    },
    {
     "ename": "RuntimeError",
     "evalue": "ignored",
     "output_type": "error",
     "traceback": [
      "\u001b[0;31m---------------------------------------------------------------------------\u001b[0m",
      "\u001b[0;31mRuntimeError\u001b[0m                              Traceback (most recent call last)",
      "\u001b[0;32m<ipython-input-34-a7d3903f8b83>\u001b[0m in \u001b[0;36m<module>\u001b[0;34m()\u001b[0m\n\u001b[1;32m      3\u001b[0m \u001b[0mattn_decoder1\u001b[0m \u001b[0;34m=\u001b[0m \u001b[0mAttnDecoderRNN\u001b[0m\u001b[0;34m(\u001b[0m\u001b[0moutput_weights_matrix\u001b[0m\u001b[0;34m,\u001b[0m \u001b[0mhidden_size\u001b[0m\u001b[0;34m,\u001b[0m \u001b[0moutput_textdict\u001b[0m\u001b[0;34m.\u001b[0m\u001b[0mn_words\u001b[0m\u001b[0;34m,\u001b[0m \u001b[0mdropout_p\u001b[0m\u001b[0;34m=\u001b[0m\u001b[0;36m0.1\u001b[0m\u001b[0;34m)\u001b[0m\u001b[0;34m.\u001b[0m\u001b[0mto\u001b[0m\u001b[0;34m(\u001b[0m\u001b[0mdevice\u001b[0m\u001b[0;34m)\u001b[0m\u001b[0;34m\u001b[0m\u001b[0;34m\u001b[0m\u001b[0m\n\u001b[1;32m      4\u001b[0m \u001b[0;34m\u001b[0m\u001b[0m\n\u001b[0;32m----> 5\u001b[0;31m \u001b[0mtrainIters\u001b[0m\u001b[0;34m(\u001b[0m\u001b[0mencoder1\u001b[0m\u001b[0;34m,\u001b[0m \u001b[0mattn_decoder1\u001b[0m\u001b[0;34m,\u001b[0m \u001b[0;36m75000\u001b[0m\u001b[0;34m,\u001b[0m \u001b[0mprint_every\u001b[0m\u001b[0;34m=\u001b[0m\u001b[0;36m5000\u001b[0m\u001b[0;34m)\u001b[0m\u001b[0;34m\u001b[0m\u001b[0;34m\u001b[0m\u001b[0m\n\u001b[0m",
      "\u001b[0;32m<ipython-input-30-2f5909ea8619>\u001b[0m in \u001b[0;36mtrainIters\u001b[0;34m(encoder, decoder, n_iters, print_every, plot_every, learning_rate)\u001b[0m\n\u001b[1;32m     17\u001b[0m \u001b[0;34m\u001b[0m\u001b[0m\n\u001b[1;32m     18\u001b[0m         loss = train(input_tensor, feature_tensor, target_tensor, encoder,\n\u001b[0;32m---> 19\u001b[0;31m                      decoder, encoder_optimizer, decoder_optimizer, criterion)\n\u001b[0m\u001b[1;32m     20\u001b[0m         \u001b[0mprint_loss_total\u001b[0m \u001b[0;34m+=\u001b[0m \u001b[0mloss\u001b[0m\u001b[0;34m\u001b[0m\u001b[0;34m\u001b[0m\u001b[0m\n\u001b[1;32m     21\u001b[0m         \u001b[0mplot_loss_total\u001b[0m \u001b[0;34m+=\u001b[0m \u001b[0mloss\u001b[0m\u001b[0;34m\u001b[0m\u001b[0;34m\u001b[0m\u001b[0m\n",
      "\u001b[0;32m<ipython-input-29-30b7119e70f9>\u001b[0m in \u001b[0;36mtrain\u001b[0;34m(input_tensor, feature_tensor, target_tensor, encoder, decoder, encoder_optimizer, decoder_optimizer, criterion, max_length)\u001b[0m\n\u001b[1;32m     17\u001b[0m     \u001b[0;32mfor\u001b[0m \u001b[0mei\u001b[0m \u001b[0;32min\u001b[0m \u001b[0mrange\u001b[0m\u001b[0;34m(\u001b[0m\u001b[0minput_length\u001b[0m\u001b[0;34m)\u001b[0m\u001b[0;34m:\u001b[0m\u001b[0;34m\u001b[0m\u001b[0;34m\u001b[0m\u001b[0m\n\u001b[1;32m     18\u001b[0m         encoder_output, encoder_hidden = encoder(\n\u001b[0;32m---> 19\u001b[0;31m             input_tensor[ei], feature_tensor[ei], encoder_hidden)\n\u001b[0m\u001b[1;32m     20\u001b[0m         \u001b[0mencoder_outputs\u001b[0m\u001b[0;34m[\u001b[0m\u001b[0mei\u001b[0m\u001b[0;34m]\u001b[0m \u001b[0;34m=\u001b[0m \u001b[0mencoder_output\u001b[0m\u001b[0;34m[\u001b[0m\u001b[0;36m0\u001b[0m\u001b[0;34m,\u001b[0m \u001b[0;36m0\u001b[0m\u001b[0;34m]\u001b[0m\u001b[0;34m\u001b[0m\u001b[0;34m\u001b[0m\u001b[0m\n\u001b[1;32m     21\u001b[0m \u001b[0;34m\u001b[0m\u001b[0m\n",
      "\u001b[0;32m/usr/local/lib/python3.6/dist-packages/torch/nn/modules/module.py\u001b[0m in \u001b[0;36m__call__\u001b[0;34m(self, *input, **kwargs)\u001b[0m\n\u001b[1;32m    530\u001b[0m             \u001b[0mresult\u001b[0m \u001b[0;34m=\u001b[0m \u001b[0mself\u001b[0m\u001b[0;34m.\u001b[0m\u001b[0m_slow_forward\u001b[0m\u001b[0;34m(\u001b[0m\u001b[0;34m*\u001b[0m\u001b[0minput\u001b[0m\u001b[0;34m,\u001b[0m \u001b[0;34m**\u001b[0m\u001b[0mkwargs\u001b[0m\u001b[0;34m)\u001b[0m\u001b[0;34m\u001b[0m\u001b[0;34m\u001b[0m\u001b[0m\n\u001b[1;32m    531\u001b[0m         \u001b[0;32melse\u001b[0m\u001b[0;34m:\u001b[0m\u001b[0;34m\u001b[0m\u001b[0;34m\u001b[0m\u001b[0m\n\u001b[0;32m--> 532\u001b[0;31m             \u001b[0mresult\u001b[0m \u001b[0;34m=\u001b[0m \u001b[0mself\u001b[0m\u001b[0;34m.\u001b[0m\u001b[0mforward\u001b[0m\u001b[0;34m(\u001b[0m\u001b[0;34m*\u001b[0m\u001b[0minput\u001b[0m\u001b[0;34m,\u001b[0m \u001b[0;34m**\u001b[0m\u001b[0mkwargs\u001b[0m\u001b[0;34m)\u001b[0m\u001b[0;34m\u001b[0m\u001b[0;34m\u001b[0m\u001b[0m\n\u001b[0m\u001b[1;32m    533\u001b[0m         \u001b[0;32mfor\u001b[0m \u001b[0mhook\u001b[0m \u001b[0;32min\u001b[0m \u001b[0mself\u001b[0m\u001b[0;34m.\u001b[0m\u001b[0m_forward_hooks\u001b[0m\u001b[0;34m.\u001b[0m\u001b[0mvalues\u001b[0m\u001b[0;34m(\u001b[0m\u001b[0;34m)\u001b[0m\u001b[0;34m:\u001b[0m\u001b[0;34m\u001b[0m\u001b[0;34m\u001b[0m\u001b[0m\n\u001b[1;32m    534\u001b[0m             \u001b[0mhook_result\u001b[0m \u001b[0;34m=\u001b[0m \u001b[0mhook\u001b[0m\u001b[0;34m(\u001b[0m\u001b[0mself\u001b[0m\u001b[0;34m,\u001b[0m \u001b[0minput\u001b[0m\u001b[0;34m,\u001b[0m \u001b[0mresult\u001b[0m\u001b[0;34m)\u001b[0m\u001b[0;34m\u001b[0m\u001b[0;34m\u001b[0m\u001b[0m\n",
      "\u001b[0;32m<ipython-input-25-aa01e2242ad4>\u001b[0m in \u001b[0;36mforward\u001b[0;34m(self, input, feature_tensor, hidden)\u001b[0m\n\u001b[1;32m     13\u001b[0m         \u001b[0mprint\u001b[0m\u001b[0;34m(\u001b[0m\u001b[0moutput\u001b[0m\u001b[0;34m.\u001b[0m\u001b[0msize\u001b[0m\u001b[0;34m(\u001b[0m\u001b[0;34m)\u001b[0m\u001b[0;34m)\u001b[0m\u001b[0;34m\u001b[0m\u001b[0;34m\u001b[0m\u001b[0m\n\u001b[1;32m     14\u001b[0m         \u001b[0mprint\u001b[0m\u001b[0;34m(\u001b[0m\u001b[0mhidden\u001b[0m\u001b[0;34m.\u001b[0m\u001b[0msize\u001b[0m\u001b[0;34m(\u001b[0m\u001b[0;34m)\u001b[0m\u001b[0;34m)\u001b[0m\u001b[0;34m\u001b[0m\u001b[0;34m\u001b[0m\u001b[0m\n\u001b[0;32m---> 15\u001b[0;31m         \u001b[0moutput\u001b[0m\u001b[0;34m,\u001b[0m \u001b[0mhidden\u001b[0m \u001b[0;34m=\u001b[0m \u001b[0mself\u001b[0m\u001b[0;34m.\u001b[0m\u001b[0mlstm\u001b[0m\u001b[0;34m(\u001b[0m\u001b[0moutput\u001b[0m\u001b[0;34m,\u001b[0m \u001b[0mhidden\u001b[0m\u001b[0;34m)\u001b[0m\u001b[0;34m\u001b[0m\u001b[0;34m\u001b[0m\u001b[0m\n\u001b[0m\u001b[1;32m     16\u001b[0m         \u001b[0;32mreturn\u001b[0m \u001b[0moutput\u001b[0m\u001b[0;34m,\u001b[0m \u001b[0mhidden\u001b[0m\u001b[0;34m\u001b[0m\u001b[0;34m\u001b[0m\u001b[0m\n\u001b[1;32m     17\u001b[0m \u001b[0;34m\u001b[0m\u001b[0m\n",
      "\u001b[0;32m/usr/local/lib/python3.6/dist-packages/torch/nn/modules/module.py\u001b[0m in \u001b[0;36m__call__\u001b[0;34m(self, *input, **kwargs)\u001b[0m\n\u001b[1;32m    530\u001b[0m             \u001b[0mresult\u001b[0m \u001b[0;34m=\u001b[0m \u001b[0mself\u001b[0m\u001b[0;34m.\u001b[0m\u001b[0m_slow_forward\u001b[0m\u001b[0;34m(\u001b[0m\u001b[0;34m*\u001b[0m\u001b[0minput\u001b[0m\u001b[0;34m,\u001b[0m \u001b[0;34m**\u001b[0m\u001b[0mkwargs\u001b[0m\u001b[0;34m)\u001b[0m\u001b[0;34m\u001b[0m\u001b[0;34m\u001b[0m\u001b[0m\n\u001b[1;32m    531\u001b[0m         \u001b[0;32melse\u001b[0m\u001b[0;34m:\u001b[0m\u001b[0;34m\u001b[0m\u001b[0;34m\u001b[0m\u001b[0m\n\u001b[0;32m--> 532\u001b[0;31m             \u001b[0mresult\u001b[0m \u001b[0;34m=\u001b[0m \u001b[0mself\u001b[0m\u001b[0;34m.\u001b[0m\u001b[0mforward\u001b[0m\u001b[0;34m(\u001b[0m\u001b[0;34m*\u001b[0m\u001b[0minput\u001b[0m\u001b[0;34m,\u001b[0m \u001b[0;34m**\u001b[0m\u001b[0mkwargs\u001b[0m\u001b[0;34m)\u001b[0m\u001b[0;34m\u001b[0m\u001b[0;34m\u001b[0m\u001b[0m\n\u001b[0m\u001b[1;32m    533\u001b[0m         \u001b[0;32mfor\u001b[0m \u001b[0mhook\u001b[0m \u001b[0;32min\u001b[0m \u001b[0mself\u001b[0m\u001b[0;34m.\u001b[0m\u001b[0m_forward_hooks\u001b[0m\u001b[0;34m.\u001b[0m\u001b[0mvalues\u001b[0m\u001b[0;34m(\u001b[0m\u001b[0;34m)\u001b[0m\u001b[0;34m:\u001b[0m\u001b[0;34m\u001b[0m\u001b[0;34m\u001b[0m\u001b[0m\n\u001b[1;32m    534\u001b[0m             \u001b[0mhook_result\u001b[0m \u001b[0;34m=\u001b[0m \u001b[0mhook\u001b[0m\u001b[0;34m(\u001b[0m\u001b[0mself\u001b[0m\u001b[0;34m,\u001b[0m \u001b[0minput\u001b[0m\u001b[0;34m,\u001b[0m \u001b[0mresult\u001b[0m\u001b[0;34m)\u001b[0m\u001b[0;34m\u001b[0m\u001b[0;34m\u001b[0m\u001b[0m\n",
      "\u001b[0;32m/usr/local/lib/python3.6/dist-packages/torch/nn/modules/rnn.py\u001b[0m in \u001b[0;36mforward\u001b[0;34m(self, input, hx)\u001b[0m\n\u001b[1;32m    554\u001b[0m             \u001b[0mhx\u001b[0m \u001b[0;34m=\u001b[0m \u001b[0mself\u001b[0m\u001b[0;34m.\u001b[0m\u001b[0mpermute_hidden\u001b[0m\u001b[0;34m(\u001b[0m\u001b[0mhx\u001b[0m\u001b[0;34m,\u001b[0m \u001b[0msorted_indices\u001b[0m\u001b[0;34m)\u001b[0m\u001b[0;34m\u001b[0m\u001b[0;34m\u001b[0m\u001b[0m\n\u001b[1;32m    555\u001b[0m \u001b[0;34m\u001b[0m\u001b[0m\n\u001b[0;32m--> 556\u001b[0;31m         \u001b[0mself\u001b[0m\u001b[0;34m.\u001b[0m\u001b[0mcheck_forward_args\u001b[0m\u001b[0;34m(\u001b[0m\u001b[0minput\u001b[0m\u001b[0;34m,\u001b[0m \u001b[0mhx\u001b[0m\u001b[0;34m,\u001b[0m \u001b[0mbatch_sizes\u001b[0m\u001b[0;34m)\u001b[0m\u001b[0;34m\u001b[0m\u001b[0;34m\u001b[0m\u001b[0m\n\u001b[0m\u001b[1;32m    557\u001b[0m         \u001b[0;32mif\u001b[0m \u001b[0mbatch_sizes\u001b[0m \u001b[0;32mis\u001b[0m \u001b[0;32mNone\u001b[0m\u001b[0;34m:\u001b[0m\u001b[0;34m\u001b[0m\u001b[0;34m\u001b[0m\u001b[0m\n\u001b[1;32m    558\u001b[0m             result = _VF.lstm(input, hx, self._flat_weights, self.bias, self.num_layers,\n",
      "\u001b[0;32m/usr/local/lib/python3.6/dist-packages/torch/nn/modules/rnn.py\u001b[0m in \u001b[0;36mcheck_forward_args\u001b[0;34m(self, input, hidden, batch_sizes)\u001b[0m\n\u001b[1;32m    510\u001b[0m \u001b[0;34m\u001b[0m\u001b[0m\n\u001b[1;32m    511\u001b[0m         self.check_hidden_size(hidden[0], expected_hidden_size,\n\u001b[0;32m--> 512\u001b[0;31m                                'Expected hidden[0] size {}, got {}')\n\u001b[0m\u001b[1;32m    513\u001b[0m         self.check_hidden_size(hidden[1], expected_hidden_size,\n\u001b[1;32m    514\u001b[0m                                'Expected hidden[1] size {}, got {}')\n",
      "\u001b[0;32m/usr/local/lib/python3.6/dist-packages/torch/nn/modules/rnn.py\u001b[0m in \u001b[0;36mcheck_hidden_size\u001b[0;34m(self, hx, expected_hidden_size, msg)\u001b[0m\n\u001b[1;32m    174\u001b[0m         \u001b[0;31m# type: (Tensor, Tuple[int, int, int], str) -> None\u001b[0m\u001b[0;34m\u001b[0m\u001b[0;34m\u001b[0m\u001b[0;34m\u001b[0m\u001b[0m\n\u001b[1;32m    175\u001b[0m         \u001b[0;32mif\u001b[0m \u001b[0mhx\u001b[0m\u001b[0;34m.\u001b[0m\u001b[0msize\u001b[0m\u001b[0;34m(\u001b[0m\u001b[0;34m)\u001b[0m \u001b[0;34m!=\u001b[0m \u001b[0mexpected_hidden_size\u001b[0m\u001b[0;34m:\u001b[0m\u001b[0;34m\u001b[0m\u001b[0;34m\u001b[0m\u001b[0m\n\u001b[0;32m--> 176\u001b[0;31m             \u001b[0;32mraise\u001b[0m \u001b[0mRuntimeError\u001b[0m\u001b[0;34m(\u001b[0m\u001b[0mmsg\u001b[0m\u001b[0;34m.\u001b[0m\u001b[0mformat\u001b[0m\u001b[0;34m(\u001b[0m\u001b[0mexpected_hidden_size\u001b[0m\u001b[0;34m,\u001b[0m \u001b[0mtuple\u001b[0m\u001b[0;34m(\u001b[0m\u001b[0mhx\u001b[0m\u001b[0;34m.\u001b[0m\u001b[0msize\u001b[0m\u001b[0;34m(\u001b[0m\u001b[0;34m)\u001b[0m\u001b[0;34m)\u001b[0m\u001b[0;34m)\u001b[0m\u001b[0;34m)\u001b[0m\u001b[0;34m\u001b[0m\u001b[0;34m\u001b[0m\u001b[0m\n\u001b[0m\u001b[1;32m    177\u001b[0m \u001b[0;34m\u001b[0m\u001b[0m\n\u001b[1;32m    178\u001b[0m     \u001b[0;32mdef\u001b[0m \u001b[0mcheck_forward_args\u001b[0m\u001b[0;34m(\u001b[0m\u001b[0mself\u001b[0m\u001b[0;34m,\u001b[0m \u001b[0minput\u001b[0m\u001b[0;34m,\u001b[0m \u001b[0mhidden\u001b[0m\u001b[0;34m,\u001b[0m \u001b[0mbatch_sizes\u001b[0m\u001b[0;34m)\u001b[0m\u001b[0;34m:\u001b[0m\u001b[0;34m\u001b[0m\u001b[0;34m\u001b[0m\u001b[0m\n",
      "\u001b[0;31mRuntimeError\u001b[0m: Expected hidden[0] size (1, 1, 256), got (1, 256)"
     ]
    }
   ],
   "source": [
    "hidden_size = 256\n",
    "encoder1 = EncoderRNN(input_weights_matrix, feature_tensors, hidden_size).to(device)\n",
    "attn_decoder1 = AttnDecoderRNN(output_weights_matrix, hidden_size, output_textdict.n_words, dropout_p=0.1).to(device)\n",
    "\n",
    "trainIters(encoder1, attn_decoder1, 75000, print_every=5000)"
   ]
  }
 ],
 "metadata": {
  "accelerator": "GPU",
  "colab": {
   "collapsed_sections": [],
   "machine_shape": "hm",
   "name": "Question_Generator.ipynb",
   "provenance": [],
   "toc_visible": true
  },
  "kernelspec": {
   "display_name": "Python 3",
   "language": "python",
   "name": "python3"
  },
  "language_info": {
   "codemirror_mode": {
    "name": "ipython",
    "version": 3
   },
   "file_extension": ".py",
   "mimetype": "text/x-python",
   "name": "python",
   "nbconvert_exporter": "python",
   "pygments_lexer": "ipython3",
   "version": "3.7.1"
  }
 },
 "nbformat": 4,
 "nbformat_minor": 4
}
