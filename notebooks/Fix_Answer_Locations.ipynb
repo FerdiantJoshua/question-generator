{
 "cells": [
  {
   "cell_type": "markdown",
   "metadata": {},
   "source": [
    "# Import and preparation"
   ]
  },
  {
   "cell_type": "code",
   "execution_count": 1,
   "metadata": {},
   "outputs": [],
   "source": [
    "import sys\n",
    "import logging\n",
    "\n",
    "import pandas as pd\n",
    "import numpy as np\n",
    "\n",
    "import matplotlib.pyplot as plt"
   ]
  },
  {
   "cell_type": "markdown",
   "metadata": {},
   "source": [
    "## Logger Preparation"
   ]
  },
  {
   "cell_type": "code",
   "execution_count": 2,
   "metadata": {},
   "outputs": [],
   "source": [
    "logger = logging.getLogger(__name__)\n",
    "logger.setLevel(logging.INFO)\n",
    "# logger.setLevel(logging.DEBUG)\n",
    "\n",
    "c_handler = logging.StreamHandler(sys.stdout)\n",
    "# c_format = logging.Formatter('%(asctime)s - %(name)s - %(levelname)s - %(message)s')\n",
    "c_format = logging.Formatter(f'%(levelname)-8s: %(message)s')\n",
    "c_handler.setFormatter(c_format)\n",
    "\n",
    "for handler in logger.handlers:\n",
    "    logger.removeHandler(handler)\n",
    "logger.addHandler(c_handler)"
   ]
  },
  {
   "cell_type": "code",
   "execution_count": 3,
   "metadata": {},
   "outputs": [
    {
     "name": "stdout",
     "output_type": "stream",
     "text": [
      "INFO    : test\n"
     ]
    }
   ],
   "source": [
    "logger.info('test')\n",
    "logger.debug('aku adalah anak gembala')"
   ]
  },
  {
   "cell_type": "markdown",
   "metadata": {},
   "source": [
    "## Data Reading"
   ]
  },
  {
   "cell_type": "code",
   "execution_count": 6,
   "metadata": {},
   "outputs": [
    {
     "name": "stdout",
     "output_type": "stream",
     "text": [
      "(35, 2)\n",
      "                                            title  \\\n",
      "0                                       Normandia   \n",
      "1                    Teori kompleksitas komputasi   \n",
      "2                              California Selatan   \n",
      "3                          Sky (Kerajaan Inggris)   \n",
      "4                            Victoria (Australia)   \n",
      "5                                        Huguenot   \n",
      "6                                       Mesin uap   \n",
      "7                                         Oksigen   \n",
      "8                              Krisis minyak 1973   \n",
      "9                                 Hukum Uni Eropa   \n",
      "10                             hutan hujan Amazon   \n",
      "11                                     Ctenophora   \n",
      "12                             Fresno, California   \n",
      "13                               Pergantian paket   \n",
      "14                                 Kematian kelam   \n",
      "15                                        Geologi   \n",
      "16                                        Farmasi   \n",
      "17                            Pembangkangan sipil   \n",
      "18                                     Konstruksi   \n",
      "19                                 Sekolah swasta   \n",
      "20                            Universitas Harvard   \n",
      "21                          Jacksonville, Florida   \n",
      "22                            Ketimpangan ekonomi   \n",
      "23                            Universitas Chicago   \n",
      "24                                   Dinasti Yuan   \n",
      "25                               Sistem kekebalan   \n",
      "26  Panel Antarpemerintah tentang Perubahan Iklim   \n",
      "27                                 bilangan prima   \n",
      "28                                          Rhine   \n",
      "29                            Parlemen Skotlandia   \n",
      "30                                      Islamisme   \n",
      "31                                   Imperialisme   \n",
      "32                                        Warsawa   \n",
      "33                      Perang Perancis dan India   \n",
      "34                                        Memaksa   \n",
      "\n",
      "                                           paragraphs  \n",
      "0   [{'qas': [{'question': 'Di negara apa Normandi...  \n",
      "1   [{'qas': [{'question': 'Apa cabang ilmu komput...  \n",
      "2   [{'qas': [{'question': 'Apa California Selatan...  \n",
      "3   [{'qas': [{'question': 'Perusahaan apa yang di...  \n",
      "4   [{'qas': [{'question': 'Ekonomi seperti apa ya...  \n",
      "5   [{'qas': [{'question': 'Di mana populasi Pranc...  \n",
      "6   [{'qas': [{'question': 'Seiring dengan panas b...  \n",
      "7   [{'qas': [{'question': 'Nomor atom dari tabel ...  \n",
      "8   [{'qas': [{'question': 'Kapan krisis minyak 19...  \n",
      "9   [{'qas': [{'question': 'Apa itu UU Uni Eropa?'...  \n",
      "10  [{'qas': [{'question': 'Nama mana yang juga di...  \n",
      "11  [{'qas': [{'question': 'Apa itu ctenophora?', ...  \n",
      "12  [{'qas': [{'question': 'Kota mana yang merupak...  \n",
      "13  [{'qas': [{'question': 'Apa yang dikembangkan ...  \n",
      "14  [{'qas': [{'question': 'Dari mana asal mula ke...  \n",
      "15  [{'qas': [{'question': 'Batuan beku adalah bat...  \n",
      "16  [{'qas': [{'question': 'Dari mana kata farmasi...  \n",
      "17  [{'qas': [{'question': 'Apa namanya ketika ora...  \n",
      "18  [{'qas': [{'question': 'Bagaimana proses pemba...  \n",
      "19  [{'qas': [{'question': 'Seiring dengan sekolah...  \n",
      "20  [{'qas': [{'question': 'Apa nama sekolah itu?'...  \n",
      "21  [{'qas': [{'question': 'Kota Florida manakah y...  \n",
      "22  [{'qas': [{'question': 'Berapa persentase aset...  \n",
      "23  [{'qas': [{'question': 'Universitas seperti ap...  \n",
      "24  [{'qas': [{'question': 'Apa nama Cina untuk di...  \n",
      "25  [{'qas': [{'question': 'Sistem kekebalan melin...  \n",
      "26  [{'qas': [{'question': 'Organisasi apa yang me...  \n",
      "27  [{'qas': [{'question': 'Apakah satu-satunya pe...  \n",
      "28  [{'qas': [{'question': 'Di mana Rhine kosong?'...  \n",
      "29  [{'qas': [{'question': 'Kapan parlemen Skotlan...  \n",
      "30  [{'qas': [{'question': 'Apa itu gerakan kebang...  \n",
      "31  [{'qas': [{'question': 'Kata imperialisme bera...  \n",
      "32  [{'qas': [{'question': 'Apa kota terbesar Pola...  \n",
      "33  [{'qas': [{'question': 'Kapan Perang Perancis ...  \n",
      "34  [{'qas': [{'question': 'Konsep apa yang diguna...  \n",
      "(35, 2)\n"
     ]
    },
    {
     "data": {
      "text/html": [
       "<div>\n",
       "<style scoped>\n",
       "    .dataframe tbody tr th:only-of-type {\n",
       "        vertical-align: middle;\n",
       "    }\n",
       "\n",
       "    .dataframe tbody tr th {\n",
       "        vertical-align: top;\n",
       "    }\n",
       "\n",
       "    .dataframe thead th {\n",
       "        text-align: right;\n",
       "    }\n",
       "</style>\n",
       "<table border=\"1\" class=\"dataframe\">\n",
       "  <thead>\n",
       "    <tr style=\"text-align: right;\">\n",
       "      <th></th>\n",
       "      <th>version</th>\n",
       "      <th>data</th>\n",
       "    </tr>\n",
       "  </thead>\n",
       "  <tbody>\n",
       "    <tr>\n",
       "      <td>0</td>\n",
       "      <td>v2.0</td>\n",
       "      <td>{'title': 'Normans', 'paragraphs': [{'qas': [{...</td>\n",
       "    </tr>\n",
       "    <tr>\n",
       "      <td>1</td>\n",
       "      <td>v2.0</td>\n",
       "      <td>{'title': 'Computational_complexity_theory', '...</td>\n",
       "    </tr>\n",
       "    <tr>\n",
       "      <td>2</td>\n",
       "      <td>v2.0</td>\n",
       "      <td>{'title': 'Southern_California', 'paragraphs':...</td>\n",
       "    </tr>\n",
       "    <tr>\n",
       "      <td>3</td>\n",
       "      <td>v2.0</td>\n",
       "      <td>{'title': 'Sky_(United_Kingdom)', 'paragraphs'...</td>\n",
       "    </tr>\n",
       "    <tr>\n",
       "      <td>4</td>\n",
       "      <td>v2.0</td>\n",
       "      <td>{'title': 'Victoria_(Australia)', 'paragraphs'...</td>\n",
       "    </tr>\n",
       "  </tbody>\n",
       "</table>\n",
       "</div>"
      ],
      "text/plain": [
       "  version                                               data\n",
       "0    v2.0  {'title': 'Normans', 'paragraphs': [{'qas': [{...\n",
       "1    v2.0  {'title': 'Computational_complexity_theory', '...\n",
       "2    v2.0  {'title': 'Southern_California', 'paragraphs':...\n",
       "3    v2.0  {'title': 'Sky_(United_Kingdom)', 'paragraphs'...\n",
       "4    v2.0  {'title': 'Victoria_(Australia)', 'paragraphs'..."
      ]
     },
     "execution_count": 6,
     "metadata": {},
     "output_type": "execute_result"
    }
   ],
   "source": [
    "TYPE = 'dev'\n",
    "\n",
    "SQUAD_DATASET_PATH = f'../data/interim/{TYPE}-v2.0-translated.json'\n",
    "SQUAD_ORIGINAL_DATASET_PATH = f'../data/raw/SQuAD/v2.0/{TYPE}-v2.0.json'\n",
    "\n",
    "df_squad = pd.read_json(SQUAD_DATASET_PATH)\n",
    "df_squad = df_squad\n",
    "print(df_squad.shape)\n",
    "print(df_squad)\n",
    "\n",
    "df_squad_original = pd.read_json(SQUAD_ORIGINAL_DATASET_PATH)\n",
    "print(df_squad_original.shape)\n",
    "df_squad_original.head()"
   ]
  },
  {
   "cell_type": "code",
   "execution_count": 145,
   "metadata": {},
   "outputs": [
    {
     "name": "stdout",
     "output_type": "stream",
     "text": [
      "Philosophers in antiquity used the concept of force in the study of stationary and moving objects and simple machines, but thinkers such as Aristotle and Archimedes retained fundamental errors in understanding force. In part this was due to an incomplete understanding of the sometimes non-obvious force of friction, and a consequently inadequate view of the nature of natural motion. A fundamental error was the belief that a force is required to maintain motion, even at a constant velocity. Most of the previous misunderstandings about motion and force were eventually corrected by Galileo Galilei and Sir Isaac Newton. With his mathematical insight, Sir Isaac Newton formulated laws of motion that were not improved-on for nearly three hundred years. By the early 20th century, Einstein developed a theory of relativity that correctly predicted the action of forces on objects with increasing momenta near the speed of light, and also provided insight into the forces produced by gravitation and inertia.\n"
     ]
    },
    {
     "data": {
      "text/plain": [
       "[{'question': 'What concept did philosophers in antiquity use to study simple machines?',\n",
       "  'id': '573735e8c3c5551400e51e71',\n",
       "  'answers': [{'text': 'force', 'answer_start': 46},\n",
       "   {'text': 'force', 'answer_start': 46},\n",
       "   {'text': 'the concept of force', 'answer_start': 31},\n",
       "   {'text': 'the concept of force', 'answer_start': 31},\n",
       "   {'text': 'force', 'answer_start': 46},\n",
       "   {'text': 'force', 'answer_start': 46}],\n",
       "  'is_impossible': False},\n",
       " {'question': 'What was the belief that maintaining motion required force?',\n",
       "  'id': '573735e8c3c5551400e51e72',\n",
       "  'answers': [{'text': 'fundamental error', 'answer_start': 387},\n",
       "   {'text': 'A fundamental error', 'answer_start': 385},\n",
       "   {'text': 'A fundamental error', 'answer_start': 385},\n",
       "   {'text': 'A fundamental error', 'answer_start': 385},\n",
       "   {'text': 'A fundamental error', 'answer_start': 385},\n",
       "   {'text': 'A fundamental error', 'answer_start': 385}],\n",
       "  'is_impossible': False},\n",
       " {'question': 'Who had mathmatical insite?',\n",
       "  'id': '573735e8c3c5551400e51e73',\n",
       "  'answers': [{'text': 'Sir Isaac Newton', 'answer_start': 654},\n",
       "   {'text': 'Sir Isaac Newton', 'answer_start': 654},\n",
       "   {'text': 'Sir Isaac Newton', 'answer_start': 654},\n",
       "   {'text': 'Sir Isaac Newton', 'answer_start': 654},\n",
       "   {'text': 'Sir Isaac Newton', 'answer_start': 654},\n",
       "   {'text': 'Sir Isaac Newton', 'answer_start': 654}],\n",
       "  'is_impossible': False},\n",
       " {'question': \"How long did it take to improve on Sir Isaac Newton's laws of motion?\",\n",
       "  'id': '573735e8c3c5551400e51e74',\n",
       "  'answers': [{'text': 'nearly three hundred years', 'answer_start': 727},\n",
       "   {'text': 'nearly three hundred years', 'answer_start': 727},\n",
       "   {'text': 'nearly three hundred years', 'answer_start': 727},\n",
       "   {'text': 'nearly three hundred years', 'answer_start': 727},\n",
       "   {'text': 'nearly three hundred years', 'answer_start': 727},\n",
       "   {'text': 'three hundred years', 'answer_start': 734}],\n",
       "  'is_impossible': False},\n",
       " {'question': 'Who develped the theory of relativity?',\n",
       "  'id': '573735e8c3c5551400e51e75',\n",
       "  'answers': [{'text': 'Einstein', 'answer_start': 782},\n",
       "   {'text': 'Einstein', 'answer_start': 782},\n",
       "   {'text': 'Einstein', 'answer_start': 782},\n",
       "   {'text': 'Einstein', 'answer_start': 782},\n",
       "   {'text': 'Einstein', 'answer_start': 782},\n",
       "   {'text': 'Einstein', 'answer_start': 782}],\n",
       "  'is_impossible': False},\n",
       " {'plausible_answers': [{'text': 'Philosophers', 'answer_start': 0}],\n",
       "  'question': 'Who used the concept of antiquity in the study of stationary and moving objects?',\n",
       "  'id': '5ad25efad7d075001a428f56',\n",
       "  'answers': [],\n",
       "  'is_impossible': True},\n",
       " {'plausible_answers': [{'text': 'motion', 'answer_start': 377}],\n",
       "  'question': 'Something that is considered a non fundamental error is the belief that a force is required to maintain what?',\n",
       "  'id': '5ad25efad7d075001a428f57',\n",
       "  'answers': [],\n",
       "  'is_impossible': True},\n",
       " {'plausible_answers': [{'text': 'Galileo Galilei and Sir Isaac Newton',\n",
       "    'answer_start': 585}],\n",
       "  'question': 'Most of the previous understandings about motion and force were corrected by whom?',\n",
       "  'id': '5ad25efad7d075001a428f58',\n",
       "  'answers': [],\n",
       "  'is_impossible': True},\n",
       " {'plausible_answers': [{'text': 'motion and force', 'answer_start': 539}],\n",
       "  'question': 'Sir Galileo Galilei corrected the previous misunderstandings about what?',\n",
       "  'id': '5ad25efad7d075001a428f59',\n",
       "  'answers': [],\n",
       "  'is_impossible': True},\n",
       " {'plausible_answers': [{'text': 'Sir Isaac Newton', 'answer_start': 654}],\n",
       "  'question': 'Who formulated the laws of motion that were not improved-on for nearly three thousand years?',\n",
       "  'id': '5ad25efad7d075001a428f5a',\n",
       "  'answers': [],\n",
       "  'is_impossible': True}]"
      ]
     },
     "execution_count": 145,
     "metadata": {},
     "output_type": "execute_result"
    }
   ],
   "source": [
    "df_squad_original['title'] = df_squad_original['data'].apply(lambda x: x.get('title'))\n",
    "df_squad_original['paragraphs'] = df_squad_original['data'].apply(lambda x: x.get('paragraphs'))\n",
    "df_squad_original.drop(columns=['data'], inplace=True)\n",
    "\n",
    "print(df_squad_original.iloc[-1]['paragraphs'][0]['context'])\n",
    "df_squad_original.iloc[-1]['paragraphs'][0]['qas']"
   ]
  },
  {
   "cell_type": "markdown",
   "metadata": {},
   "source": [
    "# Data preprocessing"
   ]
  },
  {
   "cell_type": "code",
   "execution_count": 188,
   "metadata": {
    "collapsed": true,
    "jupyter": {
     "outputs_hidden": true
    }
   },
   "outputs": [
    {
     "name": "stdout",
     "output_type": "stream",
     "text": [
      "Oktober\n",
      "Oktober\n",
      "\n",
      "Perancis\n",
      "Perancis\n",
      "\n",
      "alasan Istana\n",
      "alasan Istana\n",
      "\n",
      "seruling dan biola\n",
      "seruling dan biola\n",
      "\n",
      "penyakit\n",
      "penyakit\n",
      "\n",
      "Oktober 1810\n",
      "Oktober 1810\n",
      "\n",
      "Lyceum Warsawa\n",
      "Lyceum Warsawa\n",
      "\n",
      "seruling dan biola\n",
      "seruling dan biola\n",
      "\n",
      "rencana\n",
      "piano\n",
      "\n",
      "enam bulan\n",
      "enam bulan\n",
      "\n",
      "Perancis\n",
      "Perancis\n",
      "\n",
      "seruling dan biola\n",
      "seruling dan biola\n",
      "\n",
      "rencana\n",
      "piano\n",
      "\n",
      "Istana Saxon.\n",
      "Istana Saxon.\n",
      "\n"
     ]
    }
   ],
   "source": [
    "# # for topic_idx in df_squad.iloc[0]['paragraphs']:\n",
    "# for question in df_squad.iloc[1]['paragraphs'][6]['qas']:\n",
    "#     answers = question['answers'][0]\n",
    "#     print(answers['text'])\n",
    "# #     # 0,0\n",
    "# #     if answers['text'] == 'Berbahaya dalam Cinta':\n",
    "# #         answers['text'] = 'Dangerously in Love'\n",
    "# #     elif answers['text'] == 'bernyanyi dan menari':\n",
    "# #         answers['text'] = 'menyanyi dan menari'\n",
    "# #     # 0,1\n",
    "# #     if answers['text'] == 'Beyonce':\n",
    "# #         answers['text'] = 'Beyoncé '\n",
    "# #     # 0,3\n",
    "# #     if answers['text'] == 'Metodis':\n",
    "# #         answers['text'] = 'Metodhis'\n",
    "# #     elif answers['text'] == 'Amerika Afrika':\n",
    "# #         answers['text'] = 'Afrika-Amerika'\n",
    "# #     # 1,0\n",
    "#     if answers['text'] == 'hanya perlahan':\n",
    "#         answers['text'] = 'piano solo'\n",
    "# #     # 1,3\n",
    "#     if answers['text'] == 'rencana':\n",
    "#         answers['text'] = 'piano'\n",
    "#     print(answers['text'])\n",
    "#     print()"
   ]
  },
  {
   "cell_type": "code",
   "execution_count": 135,
   "metadata": {},
   "outputs": [],
   "source": [
    "import string\n",
    "import re\n",
    "\n",
    "from fuzzywuzzy import fuzz\n",
    "\n",
    "FIND_STRING_APPROX_ATTEMPT_LIMIT = 3\n",
    "SHORT_ANSWER_THRESHOLD = 2\n",
    "SENTENCE_SIMILARITY_THRESHOLD = 0.5\n",
    "WORD_SIMILARITY_THRESHOLD = 80\n",
    "NOT_FOUND_VALUE = (-1, -1)\n",
    "\n",
    "is_punctuation_regex = re.compile(r\"[%s]+\" % string.punctuation)\n",
    "find_standalone_punctuations_regex = re.compile(r\"\\s[%s]\\s\" % string.punctuation)\n",
    "group_of_punctuation_regex = re.compile(r\"([%s]+)\" % string.punctuation)\n",
    "\n",
    "def remove_punctuations(text):\n",
    "    table = str.maketrans('', '', string.punctuation)\n",
    "    filtered = [w.translate(table) for w in text.split()]\n",
    "    return ' '.join(filtered)\n",
    "\n",
    "def is_punctuation(token):\n",
    "    return bool(re.fullmatch(is_punctuation_regex, token))\n",
    "\n",
    "def count_standalone_punctuations(text):\n",
    "    return len(re.findall(find_standalone_punctuations_regex, text))\n",
    "\n",
    "def tokenize(s):\n",
    "    s = re.sub(group_of_punctuation_regex, r\" \\1 \", s)\n",
    "    s = s.split()\n",
    "    return s\n",
    "\n",
    "def find_word_in_list_approx(list_word, word, start_search_idx=0):\n",
    "    found = False\n",
    "    i = start_search_idx\n",
    "    while i < len(list_word) and not found:\n",
    "        found = fuzz.token_set_ratio(list_word[i], word) > WORD_SIMILARITY_THRESHOLD\n",
    "        i += 1\n",
    "    if found:\n",
    "        return i-1\n",
    "    else:\n",
    "        return -1\n",
    "\n",
    "def find_string_approx(context, answer, logger=logger):\n",
    "    context_words = tokenize(context)\n",
    "    answer_words = tokenize(answer)\n",
    "    context_words_length = len(context_words)\n",
    "    answer_words_length = len(answer_words)\n",
    "    \n",
    "#     # string.find only used for numeric, else use fuzzywuzzy\n",
    "#     if answer.strip().isnumeric():\n",
    "#         char_pos_start = context.find(answer)\n",
    "#         char_pos_end = char_pos_start + len(answer)\n",
    "#         return (char_pos_start, char_pos_end)\n",
    "        \n",
    "    found = False        \n",
    "    attempt = 0\n",
    "    \n",
    "    i_initial = -1\n",
    "    j_initial = 0    \n",
    "    i_start = i_initial\n",
    "    j_start = j_initial\n",
    "    while attempt < FIND_STRING_APPROX_ATTEMPT_LIMIT and not found:\n",
    "        if attempt > 0: logger.debug(f'Trying another starting word. Attempt {attempt+1}..')\n",
    "        while (i_start == i_initial or i_start == -1) and j_start < answer_words_length:\n",
    "            i_start = find_word_in_list_approx(context_words, answer_words[j_start], start_search_idx=i_initial+1)\n",
    "            logger.debug(answer_words[j_start])\n",
    "            logger.debug(i_start)\n",
    "            if i_start == -1:\n",
    "                i_initial = -1\n",
    "                j_start += 1\n",
    "        if i_start == -1:\n",
    "            return NOT_FOUND_VALUE\n",
    "\n",
    "        match_count = 0\n",
    "        i = i_start\n",
    "        j = j_start\n",
    "        while i < context_words_length and j < answer_words_length:\n",
    "#             logger.debug(f'{context_words[i]} vs {answer_words[j]} = {fuzz.token_set_ratio(context_words[i], answer_words[j])}')\n",
    "            if fuzz.ratio(context_words[i], answer_words[j]) > WORD_SIMILARITY_THRESHOLD:\n",
    "                match_count += 1\n",
    "                i += 1\n",
    "                j += 1\n",
    "            else:\n",
    "                if j < answer_words_length-1 and fuzz.ratio(context_words[i], answer_words[j+1]) > WORD_SIMILARITY_THRESHOLD:\n",
    "                    match_count += 1\n",
    "                    i += 1\n",
    "                    j += 2\n",
    "                elif i < context_words_length-1 and fuzz.ratio(context_words[i+1], answer_words[j]) > WORD_SIMILARITY_THRESHOLD:\n",
    "                    match_count += 1\n",
    "                    i += 2\n",
    "                    j += 1\n",
    "                else:\n",
    "                    i += 1\n",
    "                    j += 1\n",
    "                    \n",
    "        similarity = match_count / answer_words_length\n",
    "        if similarity >= SENTENCE_SIMILARITY_THRESHOLD and not (answer_words_length == 2 and similarity == 0.5): # half correct for 2 length words is considered unsimilar            \n",
    "            char_pos_start = 0 if context[0] != ' ' else 1\n",
    "            start_idx = i_start\n",
    "            for k in range(start_idx):\n",
    "                additional_space = 0 if is_punctuation(context_words[k]) else 1\n",
    "                char_pos_start += len(context_words[k]) + additional_space\n",
    "            start_word = context_words[start_idx]\n",
    "            search_pos_start = max(0, char_pos_start-len(start_word))\n",
    "            char_pos_start = search_pos_start + context[search_pos_start:search_pos_start+3*len(start_word)].find(start_word)\n",
    "                \n",
    "            char_pos_end = char_pos_start\n",
    "            end_idx = i\n",
    "            for k in range(start_idx, end_idx):\n",
    "                additional_space = 0 if is_punctuation(context_words[k]) else 1\n",
    "                char_pos_end += len(context_words[k]) + additional_space\n",
    "            end_word = context_words[end_idx-1]\n",
    "            search_pos_start = max(0, char_pos_end-2*len(end_word))\n",
    "            char_pos_end = search_pos_start + len(end_word) + context[search_pos_start:char_pos_end+len(end_word)].find(end_word)\n",
    "            found = True\n",
    "        else:\n",
    "            attempt += 1\n",
    "            logger.debug('Not found..')\n",
    "            i_initial = i_start    \n",
    "            \n",
    "    if found:\n",
    "        logger.debug(f'start:({i_start}, {j_start}), end:({i-1}, {j-1}), ({context_words[i_start]},{answer_words[j_start]}), {match_count}/{answer_words_length}={similarity:.2f}')\n",
    "        return (char_pos_start, char_pos_end)        \n",
    "    else:\n",
    "        logger.debug(f'({i-1},{j-1}): {match_count}/{answer_words_length}={similarity:.2f}')\n",
    "        return NOT_FOUND_VALUE"
   ]
  },
  {
   "cell_type": "code",
   "execution_count": 138,
   "metadata": {},
   "outputs": [
    {
     "data": {
      "text/plain": [
       "(-1, -1)"
      ]
     },
     "execution_count": 138,
     "metadata": {},
     "output_type": "execute_result"
    }
   ],
   "source": [
    "# find_string_approx('at, republik meskipun terdapat berbagai kepentingan dalam konflik atau dengan para pejuang, seperti Denmark-Norwegia. Republik Belanda, sekutu lama Inggris, mempertahankan kenetralannya, takut akan kemungkinan melawan Inggris dan Prusia melawan kekuatan besar Eropa, bahkan beru', 'Republik Belanda')\n",
    "# find_string_approx('Buddhisme / ˈbudɪzəm / adalah agama nontheistik [catatan 1] atau filsafat (bahasa Sansekerta: धर्म dharma; Pali: धम्धम dhamma) yang mencakup berbagai tradisi, kepercayaan, dan praktik spiritual yang sebagian besar didasarkan pada ajaran yang dikaitkan dengan Buddha Gautama, umumnya dikenal sebagai Buddha (\"yang terbangun\"). Menurut tradisi Buddha, Buddha hidup dan mengajar di bagian timur anak benua India, Nepal saat ini sekitar abad ke 6 dan 4 SM. [Catatan 1] Ia diakui oleh umat Buddha sebagai guru yang terbangun atau tercerahkan yang berbagi pengalamannya dengan Buddha. wawasan untuk membantu makhluk hidup mengakhiri penderitaan mereka melalui penghapusan ketidaktahuan dan keinginan. Umat Buddha percaya bahwa ini dicapai melalui pemahaman dan persepsi langsung tentang kemunculan bergantungan dan Empat Kebenaran Mulia.', 'agama nontheistik')\n",
    "# find_string_approx('a Nikaya, yang diakui oleh sebagian besar cendekiawan sebagai teks awal (lih. Baptisan bayi). Buddhisme Tibet terkadang menambahkan perlindungan keempat, dalam lama. Di Mahayana, orang yang memilih jalur bodhisattva membuat sumpah atau janji, dianggap sebagai ekspresi tertinggi dari welas asih. Di Mahayana juga, Tiga Permata dian', 'Tibet')\n",
    "# find_string_approx('Koloni dan komunitas Yunani di tepi Laut Mediterania dan Laut Hitam, tetapi orang-orang Yunani selalu berpusat di laut Aegean dan Ionia, di mana bahasa Yunani telah digunakan sejak Zaman Perunggu. Hingga awal abad ke-20, orang-orang Yunani beralih ke semenanjung Yunani, pantai barat Asia Kecil, pantai Laut Hitam, Kapadokia di Anatolia tengah, Mesi', 'Koloni dan komunitas Yunani secara historis didirikan di tepi Laut Mediterania dan Laut Hitam')\n",
    "# find_string_approx('ercaya bahwa invasi Dorian menyebabkan runtuhnya peradaban Mycenaean, tetapi kemungkinan serangan utama dilakukan oleh perampok pelaut (orang-orang laut) yang berlayar ke Mediterania timur sekitar tahun 1180 SM. Invasi Dorian diikuti oleh periode migrasi yang terbukti buruk, yang secara tepat disebut Abad Kegelapan Yunani, tetapi pada 800 SM lansekap Yunani Kuno dan Klasik sudah terlihat.', 'Diharapkan serangan utama dilakukan oleh perampok pelaut (masyarakat laut)')\n",
    "# find_string_approx('Śuddhodana bertekad untuk melihat putranya menjadi raja, jadi dia mencegahnya meninggalkan pekarangan istana. Tetapi pada usia 29, terlepas dari upaya ayahnya, Gautama berkelana ke luar istana beberapa kali. Dalam serangkaian pertemuan — yang dikenal dalam literatur Buddhis sebagai empat pemandangan — ia belajar tentang penderitaan orang-orang biasa, bertemu dengan seorang lelaki tua, seorang lelaki sakit, sebuah mayat, dan, akhirnya, seorang lelaki suci pertapa, yang tampaknya puas dan damai dengan Dunia. Pengalaman-pengalaman ini mendorong Gautama untuk meninggalkan kehidupan kerajaan dan melakukan pencarian spiritual.', '29')\n",
    "# find_string_approx('Kebenaran pertama menjelaskan sifat dukkha. Dukkha umumnya diterjemahkan sebagai \"penderitaan\", \"kecemasan\", \"ketidakpuasan\", \"tidak nyaman\", dll., Dan dikatakan memiliki tiga aspek berikut:', '\"penderitaan\", \"kecemasan\", \"ketidakpuasan\", \"tidak nyaman\", dll.')\n",
    "find_string_approx('Kaisar Diokletianus (memerintah 284–305) membagi kerajaan menjadi dua bagian timur dan barat yang dikelola secara terpisah pada tahun 286; kekaisaran tidak dianggap dibagi oleh penduduknya atau penguasanya, karena pengesahan hukum dan administrasi di satu divisi dianggap sah di yang la', '284')"
   ]
  },
  {
   "cell_type": "code",
   "execution_count": 98,
   "metadata": {},
   "outputs": [],
   "source": [
    "LEFT_OFFSET = 68\n",
    "RIGHT_OFFSET = 256\n",
    "\n",
    "IMPOSSIBLE_LOC = (-2, -2)\n",
    "\n",
    "def get_answer_loc_new(context, answer_text, answer_loc, logger=logger):\n",
    "    if answer_text == '':\n",
    "        return IMPOSSIBLE_LOC\n",
    "            \n",
    "    context_loc = (max(answer_loc[0]-len(answer_text)-LEFT_OFFSET, 0), min(answer_loc[0]+len(answer_text)+RIGHT_OFFSET, len(context)))\n",
    "    prepared_context = context[context_loc[0]:context_loc[1]].lower()\n",
    "    prepared_answer_text = answer_text.lower()\n",
    "\n",
    "    answer_loc_start, answer_loc_end = find_string_approx(prepared_context, prepared_answer_text, logger)\n",
    "    if answer_loc_start != -1:\n",
    "        answer_loc_new = (\n",
    "            answer_loc_start + context_loc[0],\n",
    "            answer_loc_end + context_loc[0]\n",
    "        )\n",
    "        logger.debug(f'Indonesia answer_loc_new: {answer_loc_new}')\n",
    "    else:\n",
    "        answer_loc_new = (-1, -1)\n",
    "        logger.debug(context[context_loc[0]:context_loc[1]])\n",
    "        logger.debug(f'INDONESIA ANSWER_LOC NOT FOUND: {answer_loc_new}')\n",
    "    return answer_loc_new"
   ]
  },
  {
   "cell_type": "code",
   "execution_count": 115,
   "metadata": {},
   "outputs": [
    {
     "name": "stdout",
     "output_type": "stream",
     "text": [
      "(-1, -1)\n"
     ]
    },
    {
     "data": {
      "text/plain": [
       "''"
      ]
     },
     "execution_count": 115,
     "metadata": {},
     "output_type": "execute_result"
    }
   ],
   "source": [
    "context = 'Kaisar Diokletianus (memerintah 284–305) membagi kerajaan menjadi dua bagian timur dan barat yang dikelola secara terpisah pada tahun 286; kekaisaran tidak dianggap dibagi oleh penduduknya atau penguasanya, karena pengesahan hukum dan administrasi di satu divisi dianggap sah di yang la'\n",
    "answer = '284'\n",
    "answer_loc = get_answer_loc_new(context, answer, (27, 30))\n",
    "print(answer_loc)\n",
    "context[answer_loc[0]:answer_loc[1]]"
   ]
  },
  {
   "cell_type": "code",
   "execution_count": 139,
   "metadata": {},
   "outputs": [],
   "source": [
    "def find_new_answers_and_calc_failures(taken_topic_idx, taken_context_idx, logger=logger):\n",
    "    qas = df_squad.iloc[taken_topic_idx]['paragraphs'][taken_context_idx]['qas']\n",
    "    context = df_squad.iloc[taken_topic_idx]['paragraphs'][taken_context_idx]['context']\n",
    "    logger.debug(f'{context}\\n')\n",
    "\n",
    "    failure_count = 0\n",
    "    i = 0\n",
    "    for question in qas:\n",
    "        logger.debug(i)\n",
    "        answers = question['answers']\n",
    "        if len(answers) == 0:\n",
    "            logger.debug(\"Impossible question. Alternating to plausible answers...\")\n",
    "            answers_key = 'plausible_answers'\n",
    "        else:\n",
    "            answers_key = 'answers'\n",
    "        try:\n",
    "            answer_text = '' if len(question[answers_key]) == 0 else question[answers_key][0]['text']\n",
    "        except Exception as e:\n",
    "            print(taken_topic_idx)\n",
    "            print(taken_context_idx)\n",
    "            print(i)\n",
    "            raise e\n",
    "        answer_loc = -1 if len(question[answers_key]) == 0 else int(question[answers_key][0]['answer_start'])\n",
    "        answer_loc = (min(answer_loc, len(context) - 1), min(answer_loc + len(answer_text), len(context)))\n",
    "        logger.debug(f'English answer_loc: {answer_loc}')\n",
    "\n",
    "        answer_loc_new = get_answer_loc_new(context, answer_text, answer_loc, logger)\n",
    "    \n",
    "        # If not found, try the original english answer. Probably GoogleTranslate had translated name entities.\n",
    "        if answer_loc_new == (-1, -1):\n",
    "            answer_text = df_squad_original.iloc[taken_topic_idx]['paragraphs'][taken_context_idx]['qas'][i][answers_key][0]['text']\n",
    "            answer_loc_new = get_answer_loc_new(context, answer_text, answer_loc, logger)\n",
    "\n",
    "        if answer_loc_new == (-1, -1):\n",
    "            failure_count += 1\n",
    "        else:\n",
    "            answer_text = context[answer_loc_new[0]:answer_loc_new[1]]\n",
    "            \n",
    "        indonesian_answer_key = f'indonesian_{answers_key}'\n",
    "        indonesian_answer = [\n",
    "            {\n",
    "                'text': answer_text,\n",
    "                'answer_start': answer_loc_new[0],\n",
    "                'answer_end': answer_loc_new[1]\n",
    "            }\n",
    "        ]\n",
    "        df_squad.iloc[taken_topic_idx]['paragraphs'][taken_context_idx]['qas'][i][indonesian_answer_key] = indonesian_answer\n",
    "        \n",
    "        i += 1\n",
    "        logger.debug(f'Question: {question[\"question\"]}')\n",
    "        logger.debug(f'Answer: {question[answers_key]}')\n",
    "        logger.debug(f'Located in context: {context[answer_loc_new[0]:answer_loc_new[1]]}')\n",
    "        logger.debug('')\n",
    "    logger.debug(f'Failure counts:{failure_count}')\n",
    "    df_squad.iloc[taken_topic_idx]['paragraphs'][taken_context_idx]['failure_count'] = failure_count"
   ]
  },
  {
   "cell_type": "code",
   "execution_count": 146,
   "metadata": {},
   "outputs": [
    {
     "name": "stdout",
     "output_type": "stream",
     "text": [
      "17.170633554458618\n"
     ]
    }
   ],
   "source": [
    "import time\n",
    "\n",
    "start_time = time.time()\n",
    "for taken_topic_idx in range(df_squad.shape[0]):\n",
    "    logger.debug(f'Topic: {taken_topic_idx}')\n",
    "    for taken_context_idx in range(len(df_squad.iloc[taken_topic_idx]['paragraphs'])):\n",
    "        logger.debug(f'\\t{taken_context_idx}')\n",
    "        find_new_answers_and_calc_failures(taken_topic_idx, taken_context_idx)\n",
    "print(time.time() - start_time)"
   ]
  },
  {
   "cell_type": "code",
   "execution_count": 149,
   "metadata": {},
   "outputs": [
    {
     "data": {
      "text/plain": [
       "{'plausible_answers': [{'text': 'Normandia', 'answer_start': 137}],\n",
       " 'question': 'Apa wilayah Perancis?',\n",
       " 'id': '5ad39d53604f3c001a3fe8d2',\n",
       " 'answers': [],\n",
       " 'is_impossible': True,\n",
       " 'indonesian_plausible_answers': [{'text': 'Normanni',\n",
       "   'answer_start': 64,\n",
       "   'answer_end': 72}]}"
      ]
     },
     "execution_count": 149,
     "metadata": {},
     "output_type": "execute_result"
    }
   ],
   "source": [
    "df_squad.iloc[0]['paragraphs'][0]['qas'][6]"
   ]
  },
  {
   "cell_type": "code",
   "execution_count": 155,
   "metadata": {},
   "outputs": [
    {
     "name": "stdout",
     "output_type": "stream",
     "text": [
      "Saving to: Datasets/SQuAD/v2.0/train-v2.0-translated_fixed.json\n"
     ]
    }
   ],
   "source": [
    "SAVE_PATH = f'../data/interim/{TYPE}-v2.0-translated_fixed.json'\n",
    "\n",
    "print(f'Saving to: {SAVE_PATH}')\n",
    "df_squad.to_json(SAVE_PATH)"
   ]
  },
  {
   "cell_type": "markdown",
   "metadata": {},
   "source": [
    "# Add failure_percentage column"
   ]
  },
  {
   "cell_type": "code",
   "execution_count": 106,
   "metadata": {},
   "outputs": [],
   "source": [
    "failure_percentage = [0.0 for _ in range(df_squad.shape[0])]\n",
    "total_questions = [0 for _ in range(df_squad.shape[0])]\n",
    "\n",
    "for taken_topic_idx in range(df_squad.shape[0]):\n",
    "    logger.debug(f'Topic: {taken_topic_idx}')\n",
    "    ctx_total_question = []\n",
    "    failure_list = []\n",
    "    \n",
    "    for taken_context_idx in range(len(df_squad.iloc[taken_topic_idx]['paragraphs'])):\n",
    "        logger.debug(f'\\tContext_idx: {taken_context_idx}')\n",
    "        context = df_squad.iloc[taken_topic_idx]['paragraphs'][taken_context_idx]\n",
    "        qas_total_question = len(context['qas'])\n",
    "        ctx_failure_percentage = context['failure_count']/qas_total_question\n",
    "        logger.debug(f'\\tFailures: {context[\"failure_count\"]}/{qas_total_question} = {ctx_failure_percentage * 100:.2f}%')\n",
    "        ctx_total_question.append(qas_total_question)\n",
    "        failure_list.append(ctx_failure_percentage)\n",
    "        \n",
    "    total_questions[taken_topic_idx] = sum(ctx_total_question)\n",
    "    failure_percentage[taken_topic_idx] = sum(failure_list)/len(failure_list)\n",
    "    \n",
    "df_squad['failure_percentage'] = failure_percentage\n",
    "df_squad['total_questions'] = total_questions"
   ]
  },
  {
   "cell_type": "code",
   "execution_count": 88,
   "metadata": {},
   "outputs": [],
   "source": [
    "# pd.set_option('display.max_rows', 50)"
   ]
  },
  {
   "cell_type": "code",
   "execution_count": 107,
   "metadata": {},
   "outputs": [
    {
     "name": "stdout",
     "output_type": "stream",
     "text": [
      "count    442.000000\n",
      "mean       0.080674\n",
      "std        0.036675\n",
      "min        0.000000\n",
      "25%        0.054069\n",
      "50%        0.072823\n",
      "75%        0.104204\n",
      "max        0.258333\n",
      "Name: failure_percentage, dtype: float64\n",
      "                      title  failure_percentage  total_questions  \\\n",
      "11             Agama Buddha            0.117818              610   \n",
      "378  Papan sirkuit tercetak            0.206508              325   \n",
      "91         Abad Pertengahan            0.146774              452   \n",
      "438                 Berburu            0.123776              531   \n",
      "171           Ratu Victoria            0.073961              883   \n",
      "..                      ...                 ...              ...   \n",
      "132               Hard rock            0.016000              249   \n",
      "372   Badan Intelijen Pusat            0.037500               65   \n",
      "105           Pitch (musik)            0.058333               36   \n",
      "115                   Satwa            0.026471               79   \n",
      "148        General Electric            0.000000              158   \n",
      "\n",
      "     failed_questions  \n",
      "11          71.868727  \n",
      "378         67.115079  \n",
      "91          66.341935  \n",
      "438         65.725155  \n",
      "171         65.307733  \n",
      "..                ...  \n",
      "132          3.984000  \n",
      "372          2.437500  \n",
      "105          2.100000  \n",
      "115          2.091176  \n",
      "148          0.000000  \n",
      "\n",
      "[442 rows x 4 columns]\n",
      "Dropped: 10333.875955454194\n",
      "Total: 130319\n"
     ]
    }
   ],
   "source": [
    "# df_analysis = df_squad[df_squad.failure_percentage > 0.12].drop(columns=['paragraphs'])\n",
    "df_analysis = df_squad.drop(columns=['paragraphs'])\n",
    "print(df_analysis.failure_percentage.describe())\n",
    "df_analysis['failed_questions'] = df_analysis['failure_percentage'] * df_analysis['total_questions']\n",
    "df_analysis = df_analysis.sort_values(by=['failed_questions'], ascending=False)\n",
    "sorted_index = df_analysis.index\n",
    "print(df_analysis)\n",
    "print(f\"Dropped: {df_analysis['failed_questions'].sum()}\")\n",
    "print(f\"Total: {df_analysis['total_questions'].sum()}\")"
   ]
  },
  {
   "cell_type": "code",
   "execution_count": 108,
   "metadata": {},
   "outputs": [
    {
     "name": "stdout",
     "output_type": "stream",
     "text": [
      "288.7685444355011\n"
     ]
    }
   ],
   "source": [
    "import time\n",
    "\n",
    "FILE_LOGGER_NAME = 'file_logger'\n",
    "\n",
    "# File logger\n",
    "file_logger = logging.getLogger(FILE_LOGGER_NAME)\n",
    "file_logger.setLevel(logging.DEBUG)\n",
    "\n",
    "f_handler = logging.FileHandler(f'answer_findings_log_{TYPE}.txt', 'w', 'utf-8')\n",
    "f_format = logging.Formatter('%(message)s')\n",
    "f_handler.setFormatter(f_format)\n",
    "\n",
    "for handler in file_logger.handlers:\n",
    "    file_logger.removeHandler(handler)    \n",
    "file_logger.addHandler(f_handler)\n",
    "\n",
    "start_time = time.time()\n",
    "for i in range(len(sorted_index)):\n",
    "    taken_topic_idx = sorted_index[i]\n",
    "    file_logger.debug(f'Topic {taken_topic_idx}: {df_squad.iloc[taken_topic_idx][\"title\"]}')\n",
    "    file_logger.debug(f'Rank: {i}')\n",
    "    file_logger.debug(f'Failure rate: {df_analysis[\"failed_questions\"][taken_topic_idx]:.0f}/{df_analysis[\"total_questions\"][taken_topic_idx]} = {df_analysis[\"failure_percentage\"][taken_topic_idx]:.2f}%')\n",
    "    for taken_context_idx in range(len(df_squad.iloc[taken_topic_idx]['paragraphs'])):\n",
    "        find_new_answers_and_calc_failures(taken_topic_idx, taken_context_idx, file_logger)\n",
    "        file_logger.debug('---------- END OF CONTEXT ----------')\n",
    "    file_logger.debug(f'========== END OF TOPIC {taken_topic_idx} ==========\\n')\n",
    "print(time.time() - start_time)"
   ]
  },
  {
   "cell_type": "code",
   "execution_count": 132,
   "metadata": {},
   "outputs": [
    {
     "data": {
      "text/plain": [
       "Index(['title', 'paragraphs', 'failure_percentage', 'total_questions'], dtype='object')"
      ]
     },
     "execution_count": 132,
     "metadata": {},
     "output_type": "execute_result"
    }
   ],
   "source": [
    "df_squad.columns"
   ]
  }
 ],
 "metadata": {
  "kernelspec": {
   "display_name": "Python 3",
   "language": "python",
   "name": "python3"
  },
  "language_info": {
   "codemirror_mode": {
    "name": "ipython",
    "version": 3
   },
   "file_extension": ".py",
   "mimetype": "text/x-python",
   "name": "python",
   "nbconvert_exporter": "python",
   "pygments_lexer": "ipython3",
   "version": "3.7.1"
  }
 },
 "nbformat": 4,
 "nbformat_minor": 4
}
